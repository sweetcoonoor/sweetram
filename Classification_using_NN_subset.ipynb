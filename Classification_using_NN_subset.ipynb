{
  "nbformat": 4,
  "nbformat_minor": 0,
  "metadata": {
    "colab": {
      "name": "Classification using NN.ipynb",
      "provenance": [],
      "collapsed_sections": []
    },
    "kernelspec": {
      "name": "python3",
      "display_name": "Python 3"
    }
  },
  "cells": [
    {
      "cell_type": "code",
      "metadata": {
        "id": "2HUGzAP8LcRv",
        "colab_type": "code",
        "colab": {}
      },
      "source": [
        "import pandas as pd\n",
        "import json\n",
        "import glob   "
      ],
      "execution_count": 0,
      "outputs": []
    },
    {
      "cell_type": "code",
      "metadata": {
        "id": "s7XOzHiWM6cq",
        "colab_type": "code",
        "colab": {}
      },
      "source": [
        "path=\"https://raw.githubusercontent.com/sweetcoonoor/sweetram/master/1981.txt\""
      ],
      "execution_count": 0,
      "outputs": []
    },
    {
      "cell_type": "code",
      "metadata": {
        "id": "GIbZunSiNIJA",
        "colab_type": "code",
        "colab": {}
      },
      "source": [
        "ff=open(\"1980.txt\",\"r\")\n",
        "Movies=ff.read()\n",
        "comma=Movies.replace(\"}\",\"},\")\n",
        "newc=comma[:-2]\n",
        "sqaureAdd=\"[\"+newc+\"]\"\n",
        "aaa=sqaureAdd.replace(\"\\n\",\"\")\n",
        "jj=aaa.replace(\"ObjectId(\",\"\").replace(\"\\\")\",\"\\\"\")\n",
        "fin=json.loads(jj)\n",
        "df = pd.DataFrame.from_dict(fin, orient='columns')"
      ],
      "execution_count": 0,
      "outputs": []
    },
    {
      "cell_type": "code",
      "metadata": {
        "id": "ordx1zzGYrjt",
        "colab_type": "code",
        "colab": {}
      },
      "source": [
        "cols=df.columns\n",
        "dfFin=pd.DataFrame(columns=cols)\n",
        "cols=df.columns\n",
        "dfFin=pd.DataFrame(columns=cols)\n",
        "dfFin\n",
        "dfFin2=dfFin"
      ],
      "execution_count": 0,
      "outputs": []
    },
    {
      "cell_type": "code",
      "metadata": {
        "id": "KPTuhJW1cuMz",
        "colab_type": "code",
        "outputId": "0b3adce9-4b87-4c20-e6d9-b35b491f20d2",
        "colab": {
          "base_uri": "https://localhost:8080/",
          "height": 54
        }
      },
      "source": [
        "all_files = glob.glob(\"*.txt\")\n",
        "\n",
        "print((all_files))\n",
        "count=0\n",
        "for files in all_files:\n",
        "  try:\n",
        "    ff=open(files,\"r\",encoding='utf-16')\n",
        "    stringg=ff.read()\n",
        "    comma=Movies.replace(\"}\",\"},\")\n",
        "    newc=comma[:-2]\n",
        "    sqaureAdd=\"[\"+newc+\"]\"\n",
        "    aaa=sqaureAdd.replace(\"\\n\",\"\")\n",
        "    jj=aaa.replace(\"ObjectId(\",\"\").replace(\"\\\")\",\"\\\"\")\n",
        "    fin=json.loads(jj)\n",
        "    df = pd.DataFrame.from_dict(fin, orient='columns')\n",
        "    dfFin=pd.concat([dfFin,df])\n",
        "  except:\n",
        "    ff=open(files,\"r\",encoding='utf-8')\n",
        "    stringg=ff.read()\n",
        "    comma=Movies.replace(\"}\",\"},\")\n",
        "    newc=comma[:-2]\n",
        "    sqaureAdd=\"[\"+newc+\"]\"\n",
        "    aaa=sqaureAdd.replace(\"\\n\",\"\")\n",
        "    jj=aaa.replace(\"ObjectId(\",\"\").replace(\"\\\")\",\"\\\"\")\n",
        "    fin=json.loads(jj)\n",
        "    df = pd.DataFrame.from_dict(fin, orient='columns')\n",
        "    dfFin=pd.concat([dfFin,df])\n",
        "    "
      ],
      "execution_count": 4,
      "outputs": [
        {
          "output_type": "stream",
          "text": [
            "['2005.txt', '1980.txt', '2002.txt', '1985.txt', '2015.txt', '1989.txt', '2013.txt', '2004.txt', '2014.txt', '1987.txt', '2007.txt', '1990.txt', '1988.txt', '1997.txt', '1993.txt', '1982.txt', '2010.txt', '2011.txt', '1981.txt', '1983.txt', '1999.txt', '1998.txt', '1996.txt', '1995.txt', '2009.txt', '2003.txt', '2012.txt', '1984.txt', '1991.txt', '1992.txt', '2001.txt', '2000.txt', '1994.txt', '2008.txt', '1986.txt', '2006.txt']\n"
          ],
          "name": "stdout"
        }
      ]
    },
    {
      "cell_type": "code",
      "metadata": {
        "id": "dbNKXbKSfU--",
        "colab_type": "code",
        "outputId": "a83fbc0c-24b8-40e1-8fbe-b3cbdc3aba89",
        "colab": {
          "base_uri": "https://localhost:8080/",
          "height": 728
        }
      },
      "source": [
        "Movie_data=pd.concat([dfFin,dfFin2])\n",
        "Movie_data.head()\n"
      ],
      "execution_count": 5,
      "outputs": [
        {
          "output_type": "execute_result",
          "data": {
            "text/html": [
              "<div>\n",
              "<style scoped>\n",
              "    .dataframe tbody tr th:only-of-type {\n",
              "        vertical-align: middle;\n",
              "    }\n",
              "\n",
              "    .dataframe tbody tr th {\n",
              "        vertical-align: top;\n",
              "    }\n",
              "\n",
              "    .dataframe thead th {\n",
              "        text-align: right;\n",
              "    }\n",
              "</style>\n",
              "<table border=\"1\" class=\"dataframe\">\n",
              "  <thead>\n",
              "    <tr style=\"text-align: right;\">\n",
              "      <th></th>\n",
              "      <th>Actors</th>\n",
              "      <th>Awards</th>\n",
              "      <th>Box_office</th>\n",
              "      <th>Country</th>\n",
              "      <th>Director</th>\n",
              "      <th>Genre</th>\n",
              "      <th>Language</th>\n",
              "      <th>Metascore</th>\n",
              "      <th>Poster</th>\n",
              "      <th>Rated</th>\n",
              "      <th>Released</th>\n",
              "      <th>Response</th>\n",
              "      <th>Runtime</th>\n",
              "      <th>Title</th>\n",
              "      <th>Type</th>\n",
              "      <th>Writer</th>\n",
              "      <th>_id</th>\n",
              "      <th>imdbID</th>\n",
              "      <th>imdbRating</th>\n",
              "      <th>imdbVotes</th>\n",
              "    </tr>\n",
              "  </thead>\n",
              "  <tbody>\n",
              "    <tr>\n",
              "      <th>0</th>\n",
              "      <td>Mark Hamill, Harrison Ford, Carrie Fisher, Bil...</td>\n",
              "      <td>Won 1 Oscar. Another 15 wins &amp; 18 nominations.</td>\n",
              "      <td>290,158,751</td>\n",
              "      <td>USA</td>\n",
              "      <td>Irvin Kershner</td>\n",
              "      <td>Action, Adventure, Fantasy</td>\n",
              "      <td>English</td>\n",
              "      <td>79</td>\n",
              "      <td>http://ia.media-imdb.com/images/M/MV5BMjE2MzQw...</td>\n",
              "      <td>PG</td>\n",
              "      <td>20 Jun 1980</td>\n",
              "      <td>True</td>\n",
              "      <td>124 min</td>\n",
              "      <td>Star Wars: Episode V - The Empire Strikes Back</td>\n",
              "      <td>movie</td>\n",
              "      <td>Leigh Brackett (screenplay), Lawrence Kasdan (...</td>\n",
              "      <td>56fb860e71a0651b0c306f55</td>\n",
              "      <td>tt0080684</td>\n",
              "      <td>8.8</td>\n",
              "      <td>799,579</td>\n",
              "    </tr>\n",
              "    <tr>\n",
              "      <th>1</th>\n",
              "      <td>Gene Wilder, Richard Pryor, Georg Stanford Bro...</td>\n",
              "      <td>1 nomination.</td>\n",
              "      <td>101,500,000</td>\n",
              "      <td>USA</td>\n",
              "      <td>Sidney Poitier</td>\n",
              "      <td>Comedy, Crime</td>\n",
              "      <td>English</td>\n",
              "      <td>50</td>\n",
              "      <td>http://ia.media-imdb.com/images/M/MV5BMTM4OTI3...</td>\n",
              "      <td>R</td>\n",
              "      <td>12 Dec 1980</td>\n",
              "      <td>True</td>\n",
              "      <td>111 min</td>\n",
              "      <td>Stir Crazy</td>\n",
              "      <td>movie</td>\n",
              "      <td>Bruce Jay Friedman</td>\n",
              "      <td>56fb860e71a0651b0c306f56</td>\n",
              "      <td>tt0081562</td>\n",
              "      <td>6.8</td>\n",
              "      <td>17,705</td>\n",
              "    </tr>\n",
              "    <tr>\n",
              "      <th>2</th>\n",
              "      <td>Kareem Abdul-Jabbar, Lloyd Bridges, Peter Grav...</td>\n",
              "      <td>Nominated for 1 Golden Globe. Another 2 wins &amp;...</td>\n",
              "      <td>83,400,000</td>\n",
              "      <td>USA</td>\n",
              "      <td>Jim Abrahams, David Zucker, Jerry Zucker</td>\n",
              "      <td>Comedy</td>\n",
              "      <td>English</td>\n",
              "      <td>N/A</td>\n",
              "      <td>http://ia.media-imdb.com/images/M/MV5BNDU2MjE4...</td>\n",
              "      <td>PG</td>\n",
              "      <td>02 Jul 1980</td>\n",
              "      <td>True</td>\n",
              "      <td>88 min</td>\n",
              "      <td>Airplane!</td>\n",
              "      <td>movie</td>\n",
              "      <td>Jim Abrahams (written for the screen by), Davi...</td>\n",
              "      <td>56fb860e71a0651b0c306f57</td>\n",
              "      <td>tt0080339</td>\n",
              "      <td>7.8</td>\n",
              "      <td>154,994</td>\n",
              "    </tr>\n",
              "    <tr>\n",
              "      <th>3</th>\n",
              "      <td>Clint Eastwood, Sondra Locke, Geoffrey Lewis, ...</td>\n",
              "      <td>1 win.</td>\n",
              "      <td>None</td>\n",
              "      <td>USA</td>\n",
              "      <td>Buddy Van Horn</td>\n",
              "      <td>Action, Comedy</td>\n",
              "      <td>English</td>\n",
              "      <td>N/A</td>\n",
              "      <td>http://ia.media-imdb.com/images/M/MV5BMTc5MTc5...</td>\n",
              "      <td>PG</td>\n",
              "      <td>17 Dec 1980</td>\n",
              "      <td>True</td>\n",
              "      <td>116 min</td>\n",
              "      <td>Any Which Way You Can</td>\n",
              "      <td>movie</td>\n",
              "      <td>Jeremy Joe Kronsberg (characters), Stanford Sh...</td>\n",
              "      <td>56fb860e71a0651b0c306f58</td>\n",
              "      <td>tt0080377</td>\n",
              "      <td>6.0</td>\n",
              "      <td>12,639</td>\n",
              "    </tr>\n",
              "    <tr>\n",
              "      <th>4</th>\n",
              "      <td>Goldie Hawn, Eileen Brennan, Armand Assante, R...</td>\n",
              "      <td>Nominated for 3 Oscars. Another 1 win &amp; 3 nomi...</td>\n",
              "      <td>69,800,000</td>\n",
              "      <td>USA</td>\n",
              "      <td>Howard Zieff</td>\n",
              "      <td>Comedy, War</td>\n",
              "      <td>English</td>\n",
              "      <td>N/A</td>\n",
              "      <td>http://ia.media-imdb.com/images/M/MV5BMjIyNjkx...</td>\n",
              "      <td>R</td>\n",
              "      <td>10 Oct 1980</td>\n",
              "      <td>True</td>\n",
              "      <td>109 min</td>\n",
              "      <td>Private Benjamin</td>\n",
              "      <td>movie</td>\n",
              "      <td>Nancy Meyers, Charles Shyer, Harvey Miller</td>\n",
              "      <td>56fb860e71a0651b0c306f59</td>\n",
              "      <td>tt0081375</td>\n",
              "      <td>6.1</td>\n",
              "      <td>17,591</td>\n",
              "    </tr>\n",
              "  </tbody>\n",
              "</table>\n",
              "</div>"
            ],
            "text/plain": [
              "                                              Actors  ... imdbVotes\n",
              "0  Mark Hamill, Harrison Ford, Carrie Fisher, Bil...  ...   799,579\n",
              "1  Gene Wilder, Richard Pryor, Georg Stanford Bro...  ...    17,705\n",
              "2  Kareem Abdul-Jabbar, Lloyd Bridges, Peter Grav...  ...   154,994\n",
              "3  Clint Eastwood, Sondra Locke, Geoffrey Lewis, ...  ...    12,639\n",
              "4  Goldie Hawn, Eileen Brennan, Armand Assante, R...  ...    17,591\n",
              "\n",
              "[5 rows x 20 columns]"
            ]
          },
          "metadata": {
            "tags": []
          },
          "execution_count": 5
        }
      ]
    },
    {
      "cell_type": "markdown",
      "metadata": {
        "id": "4TBNhIw5gXjD",
        "colab_type": "text"
      },
      "source": [
        "Data Exploration and Pre-processing"
      ]
    },
    {
      "cell_type": "code",
      "metadata": {
        "id": "f6l16zZlgebz",
        "colab_type": "code",
        "colab": {}
      },
      "source": [
        "Movie_Final=Movie_data[['Title','Genre','imdbID']]"
      ],
      "execution_count": 0,
      "outputs": []
    },
    {
      "cell_type": "code",
      "metadata": {
        "id": "xsxT0S4qhvew",
        "colab_type": "code",
        "outputId": "5618982f-bdfc-421c-88f0-290a0c2e25bc",
        "colab": {
          "base_uri": "https://localhost:8080/",
          "height": 206
        }
      },
      "source": [
        "Movie_Final.to_csv('Movie_genre.csv',index=False)\n",
        "Movie_Final.head()\n",
        "\n"
      ],
      "execution_count": 47,
      "outputs": [
        {
          "output_type": "execute_result",
          "data": {
            "text/html": [
              "<div>\n",
              "<style scoped>\n",
              "    .dataframe tbody tr th:only-of-type {\n",
              "        vertical-align: middle;\n",
              "    }\n",
              "\n",
              "    .dataframe tbody tr th {\n",
              "        vertical-align: top;\n",
              "    }\n",
              "\n",
              "    .dataframe thead th {\n",
              "        text-align: right;\n",
              "    }\n",
              "</style>\n",
              "<table border=\"1\" class=\"dataframe\">\n",
              "  <thead>\n",
              "    <tr style=\"text-align: right;\">\n",
              "      <th></th>\n",
              "      <th>Title</th>\n",
              "      <th>Genre</th>\n",
              "      <th>imdbID</th>\n",
              "    </tr>\n",
              "  </thead>\n",
              "  <tbody>\n",
              "    <tr>\n",
              "      <th>0</th>\n",
              "      <td>Star Wars: Episode V - The Empire Strikes Back</td>\n",
              "      <td>[Action, Adventure, Fantasy]</td>\n",
              "      <td>tt0080684</td>\n",
              "    </tr>\n",
              "    <tr>\n",
              "      <th>1</th>\n",
              "      <td>Stir Crazy</td>\n",
              "      <td>[Comedy, Crime]</td>\n",
              "      <td>tt0081562</td>\n",
              "    </tr>\n",
              "    <tr>\n",
              "      <th>2</th>\n",
              "      <td>Airplane!</td>\n",
              "      <td>[Comedy]</td>\n",
              "      <td>tt0080339</td>\n",
              "    </tr>\n",
              "    <tr>\n",
              "      <th>3</th>\n",
              "      <td>Any Which Way You Can</td>\n",
              "      <td>[Action, Comedy]</td>\n",
              "      <td>tt0080377</td>\n",
              "    </tr>\n",
              "    <tr>\n",
              "      <th>4</th>\n",
              "      <td>Private Benjamin</td>\n",
              "      <td>[Comedy, War]</td>\n",
              "      <td>tt0081375</td>\n",
              "    </tr>\n",
              "  </tbody>\n",
              "</table>\n",
              "</div>"
            ],
            "text/plain": [
              "                                            Title  ...     imdbID\n",
              "0  Star Wars: Episode V - The Empire Strikes Back  ...  tt0080684\n",
              "1                                      Stir Crazy  ...  tt0081562\n",
              "2                                       Airplane!  ...  tt0080339\n",
              "3                           Any Which Way You Can  ...  tt0080377\n",
              "4                                Private Benjamin  ...  tt0081375\n",
              "\n",
              "[5 rows x 3 columns]"
            ]
          },
          "metadata": {
            "tags": []
          },
          "execution_count": 47
        }
      ]
    },
    {
      "cell_type": "code",
      "metadata": {
        "id": "8VqtMSWiGnc9",
        "colab_type": "code",
        "colab": {}
      },
      "source": [
        "Movie_data['imdbID'] = Movie_data['imdbID'].astype(str)"
      ],
      "execution_count": 0,
      "outputs": []
    },
    {
      "cell_type": "code",
      "metadata": {
        "id": "9hvJRUJYG4-O",
        "colab_type": "code",
        "colab": {}
      },
      "source": [
        ""
      ],
      "execution_count": 0,
      "outputs": []
    },
    {
      "cell_type": "code",
      "metadata": {
        "id": "lBSA_kWYNeyv",
        "colab_type": "code",
        "colab": {
          "base_uri": "https://localhost:8080/",
          "height": 34
        },
        "outputId": "d00c1b07-b1ed-4c57-99bb-cf1a3646f929"
      },
      "source": [
        "from keras.preprocessing.image import load_img"
      ],
      "execution_count": 12,
      "outputs": [
        {
          "output_type": "stream",
          "text": [
            "Using TensorFlow backend.\n"
          ],
          "name": "stderr"
        }
      ]
    },
    {
      "cell_type": "code",
      "metadata": {
        "id": "wCRhZITsNifY",
        "colab_type": "code",
        "colab": {}
      },
      "source": [
        "image_glob=glob.glob(\"*.jpg\")"
      ],
      "execution_count": 0,
      "outputs": []
    },
    {
      "cell_type": "code",
      "metadata": {
        "id": "MP1tMISMQIyf",
        "colab_type": "code",
        "colab": {
          "base_uri": "https://localhost:8080/",
          "height": 380
        },
        "outputId": "e8dc6bea-b5e7-4219-f6c9-567eedf9be45"
      },
      "source": [
        "import re\n",
        "Genre = df.apply(lambda x: x['Genre'].split(\",\"))\n",
        "all_genres = set([item for i in Genre for item in l])\n",
        "for genre in all_genres:\n",
        "    new_var = \"is_\" + re.sub(r'\\W+', '', genre.lower())\n",
        "    df[new_var] = df.apply(lambda x: genre in x)\n",
        "df.drop([\"Genre\"], axis=1, inplace=True)"
      ],
      "execution_count": 40,
      "outputs": [
        {
          "output_type": "error",
          "ename": "NameError",
          "evalue": "ignored",
          "traceback": [
            "\u001b[0;31m---------------------------------------------------------------------------\u001b[0m",
            "\u001b[0;31mNameError\u001b[0m                                 Traceback (most recent call last)",
            "\u001b[0;32m<ipython-input-40-af56f1f91c30>\u001b[0m in \u001b[0;36m<module>\u001b[0;34m()\u001b[0m\n\u001b[1;32m      1\u001b[0m \u001b[0;32mimport\u001b[0m \u001b[0mre\u001b[0m\u001b[0;34m\u001b[0m\u001b[0;34m\u001b[0m\u001b[0m\n\u001b[0;32m----> 2\u001b[0;31m \u001b[0mGenre\u001b[0m \u001b[0;34m=\u001b[0m \u001b[0mdf\u001b[0m\u001b[0;34m.\u001b[0m\u001b[0mapply\u001b[0m\u001b[0;34m(\u001b[0m\u001b[0;32mlambda\u001b[0m \u001b[0mx\u001b[0m\u001b[0;34m:\u001b[0m \u001b[0mx\u001b[0m\u001b[0;34m[\u001b[0m\u001b[0mi\u001b[0m\u001b[0;34m]\u001b[0m\u001b[0;34m.\u001b[0m\u001b[0msplit\u001b[0m\u001b[0;34m(\u001b[0m\u001b[0;34m\",\"\u001b[0m\u001b[0;34m)\u001b[0m\u001b[0;34m)\u001b[0m\u001b[0;34m\u001b[0m\u001b[0;34m\u001b[0m\u001b[0m\n\u001b[0m\u001b[1;32m      3\u001b[0m \u001b[0mall_genres\u001b[0m \u001b[0;34m=\u001b[0m \u001b[0mset\u001b[0m\u001b[0;34m(\u001b[0m\u001b[0;34m[\u001b[0m\u001b[0mitem\u001b[0m \u001b[0;32mfor\u001b[0m \u001b[0mi\u001b[0m \u001b[0;32min\u001b[0m \u001b[0mGenre\u001b[0m \u001b[0;32mfor\u001b[0m \u001b[0mitem\u001b[0m \u001b[0;32min\u001b[0m \u001b[0ml\u001b[0m\u001b[0;34m]\u001b[0m\u001b[0;34m)\u001b[0m\u001b[0;34m\u001b[0m\u001b[0;34m\u001b[0m\u001b[0m\n\u001b[1;32m      4\u001b[0m \u001b[0;32mfor\u001b[0m \u001b[0mgenre\u001b[0m \u001b[0;32min\u001b[0m \u001b[0mall_genres\u001b[0m\u001b[0;34m:\u001b[0m\u001b[0;34m\u001b[0m\u001b[0;34m\u001b[0m\u001b[0m\n\u001b[1;32m      5\u001b[0m     \u001b[0mnew_var\u001b[0m \u001b[0;34m=\u001b[0m \u001b[0;34m\"is_\"\u001b[0m \u001b[0;34m+\u001b[0m \u001b[0mre\u001b[0m\u001b[0;34m.\u001b[0m\u001b[0msub\u001b[0m\u001b[0;34m(\u001b[0m\u001b[0;34mr'\\W+'\u001b[0m\u001b[0;34m,\u001b[0m \u001b[0;34m''\u001b[0m\u001b[0;34m,\u001b[0m \u001b[0mgenre\u001b[0m\u001b[0;34m.\u001b[0m\u001b[0mlower\u001b[0m\u001b[0;34m(\u001b[0m\u001b[0;34m)\u001b[0m\u001b[0;34m)\u001b[0m\u001b[0;34m\u001b[0m\u001b[0;34m\u001b[0m\u001b[0m\n",
            "\u001b[0;32m/usr/local/lib/python3.6/dist-packages/pandas/core/frame.py\u001b[0m in \u001b[0;36mapply\u001b[0;34m(self, func, axis, broadcast, raw, reduce, result_type, args, **kwds)\u001b[0m\n\u001b[1;32m   6485\u001b[0m                          \u001b[0margs\u001b[0m\u001b[0;34m=\u001b[0m\u001b[0margs\u001b[0m\u001b[0;34m,\u001b[0m\u001b[0;34m\u001b[0m\u001b[0;34m\u001b[0m\u001b[0m\n\u001b[1;32m   6486\u001b[0m                          kwds=kwds)\n\u001b[0;32m-> 6487\u001b[0;31m         \u001b[0;32mreturn\u001b[0m \u001b[0mop\u001b[0m\u001b[0;34m.\u001b[0m\u001b[0mget_result\u001b[0m\u001b[0;34m(\u001b[0m\u001b[0;34m)\u001b[0m\u001b[0;34m\u001b[0m\u001b[0;34m\u001b[0m\u001b[0m\n\u001b[0m\u001b[1;32m   6488\u001b[0m \u001b[0;34m\u001b[0m\u001b[0m\n\u001b[1;32m   6489\u001b[0m     \u001b[0;32mdef\u001b[0m \u001b[0mapplymap\u001b[0m\u001b[0;34m(\u001b[0m\u001b[0mself\u001b[0m\u001b[0;34m,\u001b[0m \u001b[0mfunc\u001b[0m\u001b[0;34m)\u001b[0m\u001b[0;34m:\u001b[0m\u001b[0;34m\u001b[0m\u001b[0;34m\u001b[0m\u001b[0m\n",
            "\u001b[0;32m/usr/local/lib/python3.6/dist-packages/pandas/core/apply.py\u001b[0m in \u001b[0;36mget_result\u001b[0;34m(self)\u001b[0m\n\u001b[1;32m    149\u001b[0m             \u001b[0;32mreturn\u001b[0m \u001b[0mself\u001b[0m\u001b[0;34m.\u001b[0m\u001b[0mapply_raw\u001b[0m\u001b[0;34m(\u001b[0m\u001b[0;34m)\u001b[0m\u001b[0;34m\u001b[0m\u001b[0;34m\u001b[0m\u001b[0m\n\u001b[1;32m    150\u001b[0m \u001b[0;34m\u001b[0m\u001b[0m\n\u001b[0;32m--> 151\u001b[0;31m         \u001b[0;32mreturn\u001b[0m \u001b[0mself\u001b[0m\u001b[0;34m.\u001b[0m\u001b[0mapply_standard\u001b[0m\u001b[0;34m(\u001b[0m\u001b[0;34m)\u001b[0m\u001b[0;34m\u001b[0m\u001b[0;34m\u001b[0m\u001b[0m\n\u001b[0m\u001b[1;32m    152\u001b[0m \u001b[0;34m\u001b[0m\u001b[0m\n\u001b[1;32m    153\u001b[0m     \u001b[0;32mdef\u001b[0m \u001b[0mapply_empty_result\u001b[0m\u001b[0;34m(\u001b[0m\u001b[0mself\u001b[0m\u001b[0;34m)\u001b[0m\u001b[0;34m:\u001b[0m\u001b[0;34m\u001b[0m\u001b[0;34m\u001b[0m\u001b[0m\n",
            "\u001b[0;32m/usr/local/lib/python3.6/dist-packages/pandas/core/apply.py\u001b[0m in \u001b[0;36mapply_standard\u001b[0;34m(self)\u001b[0m\n\u001b[1;32m    255\u001b[0m \u001b[0;34m\u001b[0m\u001b[0m\n\u001b[1;32m    256\u001b[0m         \u001b[0;31m# compute the result using the series generator\u001b[0m\u001b[0;34m\u001b[0m\u001b[0;34m\u001b[0m\u001b[0;34m\u001b[0m\u001b[0m\n\u001b[0;32m--> 257\u001b[0;31m         \u001b[0mself\u001b[0m\u001b[0;34m.\u001b[0m\u001b[0mapply_series_generator\u001b[0m\u001b[0;34m(\u001b[0m\u001b[0;34m)\u001b[0m\u001b[0;34m\u001b[0m\u001b[0;34m\u001b[0m\u001b[0m\n\u001b[0m\u001b[1;32m    258\u001b[0m \u001b[0;34m\u001b[0m\u001b[0m\n\u001b[1;32m    259\u001b[0m         \u001b[0;31m# wrap results\u001b[0m\u001b[0;34m\u001b[0m\u001b[0;34m\u001b[0m\u001b[0;34m\u001b[0m\u001b[0m\n",
            "\u001b[0;32m/usr/local/lib/python3.6/dist-packages/pandas/core/apply.py\u001b[0m in \u001b[0;36mapply_series_generator\u001b[0;34m(self)\u001b[0m\n\u001b[1;32m    284\u001b[0m             \u001b[0;32mtry\u001b[0m\u001b[0;34m:\u001b[0m\u001b[0;34m\u001b[0m\u001b[0;34m\u001b[0m\u001b[0m\n\u001b[1;32m    285\u001b[0m                 \u001b[0;32mfor\u001b[0m \u001b[0mi\u001b[0m\u001b[0;34m,\u001b[0m \u001b[0mv\u001b[0m \u001b[0;32min\u001b[0m \u001b[0menumerate\u001b[0m\u001b[0;34m(\u001b[0m\u001b[0mseries_gen\u001b[0m\u001b[0;34m)\u001b[0m\u001b[0;34m:\u001b[0m\u001b[0;34m\u001b[0m\u001b[0;34m\u001b[0m\u001b[0m\n\u001b[0;32m--> 286\u001b[0;31m                     \u001b[0mresults\u001b[0m\u001b[0;34m[\u001b[0m\u001b[0mi\u001b[0m\u001b[0;34m]\u001b[0m \u001b[0;34m=\u001b[0m \u001b[0mself\u001b[0m\u001b[0;34m.\u001b[0m\u001b[0mf\u001b[0m\u001b[0;34m(\u001b[0m\u001b[0mv\u001b[0m\u001b[0;34m)\u001b[0m\u001b[0;34m\u001b[0m\u001b[0;34m\u001b[0m\u001b[0m\n\u001b[0m\u001b[1;32m    287\u001b[0m                     \u001b[0mkeys\u001b[0m\u001b[0;34m.\u001b[0m\u001b[0mappend\u001b[0m\u001b[0;34m(\u001b[0m\u001b[0mv\u001b[0m\u001b[0;34m.\u001b[0m\u001b[0mname\u001b[0m\u001b[0;34m)\u001b[0m\u001b[0;34m\u001b[0m\u001b[0;34m\u001b[0m\u001b[0m\n\u001b[1;32m    288\u001b[0m             \u001b[0;32mexcept\u001b[0m \u001b[0mException\u001b[0m \u001b[0;32mas\u001b[0m \u001b[0me\u001b[0m\u001b[0;34m:\u001b[0m\u001b[0;34m\u001b[0m\u001b[0;34m\u001b[0m\u001b[0m\n",
            "\u001b[0;32m<ipython-input-40-af56f1f91c30>\u001b[0m in \u001b[0;36m<lambda>\u001b[0;34m(x)\u001b[0m\n\u001b[1;32m      1\u001b[0m \u001b[0;32mimport\u001b[0m \u001b[0mre\u001b[0m\u001b[0;34m\u001b[0m\u001b[0;34m\u001b[0m\u001b[0m\n\u001b[0;32m----> 2\u001b[0;31m \u001b[0mGenre\u001b[0m \u001b[0;34m=\u001b[0m \u001b[0mdf\u001b[0m\u001b[0;34m.\u001b[0m\u001b[0mapply\u001b[0m\u001b[0;34m(\u001b[0m\u001b[0;32mlambda\u001b[0m \u001b[0mx\u001b[0m\u001b[0;34m:\u001b[0m \u001b[0mx\u001b[0m\u001b[0;34m[\u001b[0m\u001b[0mi\u001b[0m\u001b[0;34m]\u001b[0m\u001b[0;34m.\u001b[0m\u001b[0msplit\u001b[0m\u001b[0;34m(\u001b[0m\u001b[0;34m\",\"\u001b[0m\u001b[0;34m)\u001b[0m\u001b[0;34m)\u001b[0m\u001b[0;34m\u001b[0m\u001b[0;34m\u001b[0m\u001b[0m\n\u001b[0m\u001b[1;32m      3\u001b[0m \u001b[0mall_genres\u001b[0m \u001b[0;34m=\u001b[0m \u001b[0mset\u001b[0m\u001b[0;34m(\u001b[0m\u001b[0;34m[\u001b[0m\u001b[0mitem\u001b[0m \u001b[0;32mfor\u001b[0m \u001b[0mi\u001b[0m \u001b[0;32min\u001b[0m \u001b[0mGenre\u001b[0m \u001b[0;32mfor\u001b[0m \u001b[0mitem\u001b[0m \u001b[0;32min\u001b[0m \u001b[0ml\u001b[0m\u001b[0;34m]\u001b[0m\u001b[0;34m)\u001b[0m\u001b[0;34m\u001b[0m\u001b[0;34m\u001b[0m\u001b[0m\n\u001b[1;32m      4\u001b[0m \u001b[0;32mfor\u001b[0m \u001b[0mgenre\u001b[0m \u001b[0;32min\u001b[0m \u001b[0mall_genres\u001b[0m\u001b[0;34m:\u001b[0m\u001b[0;34m\u001b[0m\u001b[0;34m\u001b[0m\u001b[0m\n\u001b[1;32m      5\u001b[0m     \u001b[0mnew_var\u001b[0m \u001b[0;34m=\u001b[0m \u001b[0;34m\"is_\"\u001b[0m \u001b[0;34m+\u001b[0m \u001b[0mre\u001b[0m\u001b[0;34m.\u001b[0m\u001b[0msub\u001b[0m\u001b[0;34m(\u001b[0m\u001b[0;34mr'\\W+'\u001b[0m\u001b[0;34m,\u001b[0m \u001b[0;34m''\u001b[0m\u001b[0;34m,\u001b[0m \u001b[0mgenre\u001b[0m\u001b[0;34m.\u001b[0m\u001b[0mlower\u001b[0m\u001b[0;34m(\u001b[0m\u001b[0;34m)\u001b[0m\u001b[0;34m)\u001b[0m\u001b[0;34m\u001b[0m\u001b[0;34m\u001b[0m\u001b[0m\n",
            "\u001b[0;31mNameError\u001b[0m: (\"name 'i' is not defined\", 'occurred at index Actors')"
          ]
        }
      ]
    },
    {
      "cell_type": "code",
      "metadata": {
        "id": "_6216A0HQhYL",
        "colab_type": "code",
        "colab": {
          "base_uri": "https://localhost:8080/",
          "height": 381
        },
        "outputId": "e1f5a49b-2c12-4594-8769-eaba99fd566f"
      },
      "source": [
        "Genre"
      ],
      "execution_count": 36,
      "outputs": [
        {
          "output_type": "execute_result",
          "data": {
            "text/plain": [
              "Actors        [Sissy Spacek,  Tommy Lee Jones,  Levon Helm, ...\n",
              "Awards          [Won 1 Oscar. Another 8 wins & 13 nominations.]\n",
              "Box_office                                       [79, 900, 000]\n",
              "Country                                                   [USA]\n",
              "Director                                        [Michael Apted]\n",
              "Genre                               [Biography,  Drama,  Music]\n",
              "Language                                              [English]\n",
              "Metascore                                                 [N/A]\n",
              "Poster        [http://ia.media-imdb.com/images/M/MV5BMTkwMjU...\n",
              "Rated                                                      [PG]\n",
              "Released                                          [07 Mar 1980]\n",
              "Response                                                 [True]\n",
              "Runtime                                               [124 min]\n",
              "Title                                   [Coal Miner's Daughter]\n",
              "Type                                                    [movie]\n",
              "Writer        [Thomas Rickman (screenplay),  Loretta Lynn (a...\n",
              "_id                                  [56fb860e71a0651b0c306f5a]\n",
              "imdbID                                              [tt0080549]\n",
              "imdbRating                                                [7.5]\n",
              "imdbVotes                                             [12, 692]\n",
              "dtype: object"
            ]
          },
          "metadata": {
            "tags": []
          },
          "execution_count": 36
        }
      ]
    },
    {
      "cell_type": "code",
      "metadata": {
        "id": "Vb75fGbSSPlU",
        "colab_type": "code",
        "colab": {}
      },
      "source": [
        ""
      ],
      "execution_count": 0,
      "outputs": []
    }
  ]
}