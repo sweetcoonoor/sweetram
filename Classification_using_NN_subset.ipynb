{
  "nbformat": 4,
  "nbformat_minor": 0,
  "metadata": {
    "colab": {
      "name": "Classification using NN.ipynb",
      "provenance": [],
      "collapsed_sections": []
    },
    "kernelspec": {
      "name": "python3",
      "display_name": "Python 3"
    }
  },
  "cells": [
    {
      "cell_type": "markdown",
      "metadata": {
        "id": "Uao8-tE8OVhb",
        "colab_type": "text"
      },
      "source": [
        "**Introduction**\n",
        "  We propose to achieve movie genre classification based only on movie poster images. A deep neural network is constructed to jointly describe visual appearance and object information, and classify a given movie poster image into genres. Because a movie may belong to multiple genres, this is a multi-label image classification problem. To facilitate related studies, we collect a large-scale movie poster dataset, associated with various metadata. Based on this dataset, we fine-tune a pre-trained convolutional neural network to extract visual representation and adopt a state-of-the-art framework to detect objects in posters. Two types of information are then integrated by the proposed neural network. In the evaluation, we show that the proposed method yields encouraging performance, which is much better than previous works. \""
      ]
    },
    {
      "cell_type": "code",
      "metadata": {
        "id": "2HUGzAP8LcRv",
        "colab_type": "code",
        "colab": {
          "base_uri": "https://localhost:8080/",
          "height": 669
        },
        "outputId": "74a7d523-a319-4b27-fa86-ed8d99467b4b"
      },
      "source": [
        "!pip install tensorflow-gpu==2.0.0"
      ],
      "execution_count": 13,
      "outputs": [
        {
          "output_type": "stream",
          "text": [
            "Collecting tensorflow-gpu==2.0.0\n",
            "\u001b[?25l  Downloading https://files.pythonhosted.org/packages/25/44/47f0722aea081697143fbcf5d2aa60d1aee4aaacb5869aee2b568974777b/tensorflow_gpu-2.0.0-cp36-cp36m-manylinux2010_x86_64.whl (380.8MB)\n",
            "\u001b[K     |████████████████████████████████| 380.8MB 61kB/s \n",
            "\u001b[?25hCollecting tensorboard<2.1.0,>=2.0.0 (from tensorflow-gpu==2.0.0)\n",
            "\u001b[?25l  Downloading https://files.pythonhosted.org/packages/9b/a6/e8ffa4e2ddb216449d34cfcb825ebb38206bee5c4553d69e7bc8bc2c5d64/tensorboard-2.0.0-py3-none-any.whl (3.8MB)\n",
            "\u001b[K     |████████████████████████████████| 3.8MB 38.8MB/s \n",
            "\u001b[?25hRequirement already satisfied: keras-applications>=1.0.8 in /usr/local/lib/python3.6/dist-packages (from tensorflow-gpu==2.0.0) (1.0.8)\n",
            "Requirement already satisfied: absl-py>=0.7.0 in /usr/local/lib/python3.6/dist-packages (from tensorflow-gpu==2.0.0) (0.8.1)\n",
            "Collecting tensorflow-estimator<2.1.0,>=2.0.0 (from tensorflow-gpu==2.0.0)\n",
            "\u001b[?25l  Downloading https://files.pythonhosted.org/packages/fc/08/8b927337b7019c374719145d1dceba21a8bb909b93b1ad6f8fb7d22c1ca1/tensorflow_estimator-2.0.1-py2.py3-none-any.whl (449kB)\n",
            "\u001b[K     |████████████████████████████████| 450kB 48.8MB/s \n",
            "\u001b[?25hRequirement already satisfied: grpcio>=1.8.6 in /usr/local/lib/python3.6/dist-packages (from tensorflow-gpu==2.0.0) (1.15.0)\n",
            "Requirement already satisfied: termcolor>=1.1.0 in /usr/local/lib/python3.6/dist-packages (from tensorflow-gpu==2.0.0) (1.1.0)\n",
            "Requirement already satisfied: wrapt>=1.11.1 in /usr/local/lib/python3.6/dist-packages (from tensorflow-gpu==2.0.0) (1.11.2)\n",
            "Requirement already satisfied: gast==0.2.2 in /usr/local/lib/python3.6/dist-packages (from tensorflow-gpu==2.0.0) (0.2.2)\n",
            "Requirement already satisfied: astor>=0.6.0 in /usr/local/lib/python3.6/dist-packages (from tensorflow-gpu==2.0.0) (0.8.0)\n",
            "Requirement already satisfied: google-pasta>=0.1.6 in /usr/local/lib/python3.6/dist-packages (from tensorflow-gpu==2.0.0) (0.1.7)\n",
            "Requirement already satisfied: keras-preprocessing>=1.0.5 in /usr/local/lib/python3.6/dist-packages (from tensorflow-gpu==2.0.0) (1.1.0)\n",
            "Requirement already satisfied: opt-einsum>=2.3.2 in /usr/local/lib/python3.6/dist-packages (from tensorflow-gpu==2.0.0) (3.1.0)\n",
            "Requirement already satisfied: protobuf>=3.6.1 in /usr/local/lib/python3.6/dist-packages (from tensorflow-gpu==2.0.0) (3.10.0)\n",
            "Requirement already satisfied: wheel>=0.26 in /usr/local/lib/python3.6/dist-packages (from tensorflow-gpu==2.0.0) (0.33.6)\n",
            "Requirement already satisfied: numpy<2.0,>=1.16.0 in /usr/local/lib/python3.6/dist-packages (from tensorflow-gpu==2.0.0) (1.16.5)\n",
            "Requirement already satisfied: six>=1.10.0 in /usr/local/lib/python3.6/dist-packages (from tensorflow-gpu==2.0.0) (1.12.0)\n",
            "Requirement already satisfied: markdown>=2.6.8 in /usr/local/lib/python3.6/dist-packages (from tensorboard<2.1.0,>=2.0.0->tensorflow-gpu==2.0.0) (3.1.1)\n",
            "Requirement already satisfied: werkzeug>=0.11.15 in /usr/local/lib/python3.6/dist-packages (from tensorboard<2.1.0,>=2.0.0->tensorflow-gpu==2.0.0) (0.16.0)\n",
            "Requirement already satisfied: setuptools>=41.0.0 in /usr/local/lib/python3.6/dist-packages (from tensorboard<2.1.0,>=2.0.0->tensorflow-gpu==2.0.0) (41.2.0)\n",
            "Requirement already satisfied: h5py in /usr/local/lib/python3.6/dist-packages (from keras-applications>=1.0.8->tensorflow-gpu==2.0.0) (2.8.0)\n",
            "\u001b[31mERROR: tensorflow 1.15.0rc3 has requirement tensorboard<1.16.0,>=1.15.0, but you'll have tensorboard 2.0.0 which is incompatible.\u001b[0m\n",
            "\u001b[31mERROR: tensorflow 1.15.0rc3 has requirement tensorflow-estimator==1.15.1, but you'll have tensorflow-estimator 2.0.1 which is incompatible.\u001b[0m\n",
            "Installing collected packages: tensorboard, tensorflow-estimator, tensorflow-gpu\n",
            "  Found existing installation: tensorboard 1.15.0\n",
            "    Uninstalling tensorboard-1.15.0:\n",
            "      Successfully uninstalled tensorboard-1.15.0\n",
            "  Found existing installation: tensorflow-estimator 1.15.1\n",
            "    Uninstalling tensorflow-estimator-1.15.1:\n",
            "      Successfully uninstalled tensorflow-estimator-1.15.1\n",
            "Successfully installed tensorboard-2.0.0 tensorflow-estimator-2.0.1 tensorflow-gpu-2.0.0\n"
          ],
          "name": "stdout"
        }
      ]
    },
    {
      "cell_type": "code",
      "metadata": {
        "id": "9dObdkGS1Y_b",
        "colab_type": "code",
        "colab": {}
      },
      "source": [
        "import pandas as pd\n",
        "import json\n",
        "import glob  \n",
        "import matplotlib.pyplot as plt\n",
        "import numpy as np\n",
        "import tensorflow as tf\n",
        "from tensorflow.keras import Sequential\n",
        "from tensorflow.keras.layers import Flatten,Dense,Conv2D,MaxPool2D\n"
      ],
      "execution_count": 0,
      "outputs": []
    },
    {
      "cell_type": "code",
      "metadata": {
        "id": "8ip5tDrM2xsh",
        "colab_type": "code",
        "colab": {}
      },
      "source": [
        "from tensorflow.keras.optimizers import Adam\n",
        "from tensorflow.keras.preprocessing import image"
      ],
      "execution_count": 0,
      "outputs": []
    },
    {
      "cell_type": "code",
      "metadata": {
        "id": "8rcdHH_64sR4",
        "colab_type": "code",
        "colab": {}
      },
      "source": [
        "from sklearn.model_selection import train_test_split\n",
        "from tqdm import tqdm"
      ],
      "execution_count": 0,
      "outputs": []
    },
    {
      "cell_type": "code",
      "metadata": {
        "id": "IvMAtYFQ4L3d",
        "colab_type": "code",
        "colab": {
          "base_uri": "https://localhost:8080/",
          "height": 34
        },
        "outputId": "129a6088-82a9-4e18-b110-869a06f81a17"
      },
      "source": [
        "print(tf.__version__)"
      ],
      "execution_count": 21,
      "outputs": [
        {
          "output_type": "stream",
          "text": [
            "2.0.0\n"
          ],
          "name": "stdout"
        }
      ]
    },
    {
      "cell_type": "code",
      "metadata": {
        "colab_type": "code",
        "id": "gnQbxDG65ffF",
        "colab": {
          "base_uri": "https://localhost:8080/",
          "height": 34
        },
        "outputId": "a90e7c13-8f32-4783-bcc8-c04ced79a44c"
      },
      "source": [
        "!git clone https://github.com/sweetcoonoor/Multiclassification_Genre.git"
      ],
      "execution_count": 52,
      "outputs": [
        {
          "output_type": "stream",
          "text": [
            "fatal: destination path 'Multiclassification_Genre' already exists and is not an empty directory.\n"
          ],
          "name": "stdout"
        }
      ]
    },
    {
      "cell_type": "code",
      "metadata": {
        "id": "5eum6_E8RXQK",
        "colab_type": "code",
        "colab": {
          "base_uri": "https://localhost:8080/",
          "height": 153
        },
        "outputId": "9839ba65-35d5-40aa-9cac-ca3865c7a11a"
      },
      "source": [
        "!git clone https://github.com/laxmimerit/Movies-Poster_Dataset.git"
      ],
      "execution_count": 60,
      "outputs": [
        {
          "output_type": "stream",
          "text": [
            "Cloning into 'Movies-Poster_Dataset'...\n",
            "remote: Enumerating objects: 7873, done.\u001b[K\n",
            "remote: Counting objects: 100% (7873/7873), done.\u001b[K\n",
            "remote: Compressing objects: 100% (7873/7873), done.\u001b[K\n",
            "remote: Total 7873 (delta 1), reused 7872 (delta 0), pack-reused 0\n",
            "Receiving objects: 100% (7873/7873), 246.59 MiB | 38.64 MiB/s, done.\n",
            "Resolving deltas: 100% (1/1), done.\n",
            "Checking out files: 100% (7871/7871), done.\n"
          ],
          "name": "stdout"
        }
      ]
    },
    {
      "cell_type": "code",
      "metadata": {
        "colab_type": "code",
        "id": "VQSN6KxI5ffA",
        "colab": {}
      },
      "source": [
        "ff=open(\"1980.txt\",\"r\")\n",
        "Movies=ff.read()\n",
        "comma=Movies.replace(\"}\",\"},\")\n",
        "newc=comma[:-2]\n",
        "sqaureAdd=\"[\"+newc+\"]\"\n",
        "aaa=sqaureAdd.replace(\"\\n\",\"\")\n",
        "jj=aaa.replace(\"ObjectId(\",\"\").replace(\"\\\")\",\"\\\"\")\n",
        "fin=json.loads(jj)\n",
        "df = pd.DataFrame.from_dict(fin, orient='columns')"
      ],
      "execution_count": 0,
      "outputs": []
    },
    {
      "cell_type": "code",
      "metadata": {
        "colab_type": "code",
        "id": "2wacuKSx5fe7",
        "colab": {}
      },
      "source": [
        "cols=df.columns\n",
        "dfFin=pd.DataFrame(columns=cols)\n",
        "cols=df.columns\n",
        "dfFin=pd.DataFrame(columns=cols)\n",
        "dfFin\n",
        "dfFin2=dfFin"
      ],
      "execution_count": 0,
      "outputs": []
    },
    {
      "cell_type": "code",
      "metadata": {
        "colab_type": "code",
        "outputId": "d3b164a3-5c67-4362-b5b3-2c605425cc7e",
        "id": "_AIZNlTE5fe0",
        "colab": {
          "base_uri": "https://localhost:8080/",
          "height": 54
        }
      },
      "source": [
        "all_files = glob.glob(\"*.txt\")\n",
        "\n",
        "print((all_files))\n",
        "count=0\n",
        "for files in all_files:\n",
        "  try:\n",
        "    ff=open(files,\"r\",encoding='utf-16')\n",
        "    stringg=ff.read()\n",
        "    comma=Movies.replace(\"}\",\"},\")\n",
        "    newc=comma[:-2]\n",
        "    sqaureAdd=\"[\"+newc+\"]\"\n",
        "    aaa=sqaureAdd.replace(\"\\n\",\"\")\n",
        "    jj=aaa.replace(\"ObjectId(\",\"\").replace(\"\\\")\",\"\\\"\")\n",
        "    fin=json.loads(jj)\n",
        "    df = pd.DataFrame.from_dict(fin, orient='columns')\n",
        "    dfFin=pd.concat([dfFin,df])\n",
        "  except:\n",
        "    ff=open(files,\"r\",encoding='utf-8')\n",
        "    stringg=ff.read()\n",
        "    comma=Movies.replace(\"}\",\"},\")\n",
        "    newc=comma[:-2]\n",
        "    sqaureAdd=\"[\"+newc+\"]\"\n",
        "    aaa=sqaureAdd.replace(\"\\n\",\"\")\n",
        "    jj=aaa.replace(\"ObjectId(\",\"\").replace(\"\\\")\",\"\\\"\")\n",
        "    fin=json.loads(jj)\n",
        "    df = pd.DataFrame.from_dict(fin, orient='columns')\n",
        "    dfFin=pd.concat([dfFin,df])\n",
        "    "
      ],
      "execution_count": 0,
      "outputs": [
        {
          "output_type": "stream",
          "text": [
            "['2005.txt', '1980.txt', '2002.txt', '1985.txt', '2015.txt', '1989.txt', '2013.txt', '2004.txt', '2014.txt', '1987.txt', '2007.txt', '1990.txt', '1988.txt', '1997.txt', '1993.txt', '1982.txt', '2010.txt', '2011.txt', '1981.txt', '1983.txt', '1999.txt', '1998.txt', '1996.txt', '1995.txt', '2009.txt', '2003.txt', '2012.txt', '1984.txt', '1991.txt', '1992.txt', '2001.txt', '2000.txt', '1994.txt', '2008.txt', '1986.txt', '2006.txt']\n"
          ],
          "name": "stdout"
        }
      ]
    },
    {
      "cell_type": "code",
      "metadata": {
        "colab_type": "code",
        "id": "pc_930-k5fer",
        "colab": {
          "base_uri": "https://localhost:8080/",
          "height": 34
        },
        "outputId": "55e0275d-c888-4c0f-b9f2-2f30f26999cd"
      },
      "source": [
        "Movie_data=pd.concat([dfFin,dfFin2])\n",
        "#Movie_data.head()\n",
        "Movie_data.shape\n"
      ],
      "execution_count": 26,
      "outputs": [
        {
          "output_type": "execute_result",
          "data": {
            "text/plain": [
              "(3492, 20)"
            ]
          },
          "metadata": {
            "tags": []
          },
          "execution_count": 26
        }
      ]
    },
    {
      "cell_type": "markdown",
      "metadata": {
        "colab_type": "text",
        "id": "GTZFtsYp5fen"
      },
      "source": [
        "Data Exploration and Pre-processing"
      ]
    },
    {
      "cell_type": "code",
      "metadata": {
        "colab_type": "code",
        "id": "0dMG59Dl5feZ",
        "colab": {
          "base_uri": "https://localhost:8080/",
          "height": 34
        },
        "outputId": "4fbebf99-6553-4daa-c660-acbb83eba604"
      },
      "source": [
        "Movie_Final=Movie_data[['imdbID','Title','Genre',]]\n",
        "Movie_Final.shape"
      ],
      "execution_count": 33,
      "outputs": [
        {
          "output_type": "execute_result",
          "data": {
            "text/plain": [
              "(3492, 3)"
            ]
          },
          "metadata": {
            "tags": []
          },
          "execution_count": 33
        }
      ]
    },
    {
      "cell_type": "code",
      "metadata": {
        "colab_type": "code",
        "id": "EoI-gfoD5fd7",
        "colab": {}
      },
      "source": [
        "Movie_Final.to_csv('Movie_genre.csv',encoding=\"ISO-8859-1\")\n",
        "\n",
        "\n"
      ],
      "execution_count": 0,
      "outputs": []
    },
    {
      "cell_type": "code",
      "metadata": {
        "colab_type": "code",
        "id": "2kNy2T2o5fdm",
        "colab": {}
      },
      "source": [
        "#Onehot encoding\n",
        "df = pd.read_csv(\"Movie_genre.csv\")\n",
        "\n",
        "df.dropna(subset=['Genre'],inplace=True)\n",
        "df.drop_duplicates(subset=['imdbID'], keep='first', inplace=True)\n",
        "df.set_index('imdbID',inplace=True)\n",
        "target = df['Genre'].apply(lambda x: [w.strip() for w in x.split(',')])\n",
        "genres = pd.get_dummies(target.apply(pd.Series).stack()).sum(level=0)\n"
      ],
      "execution_count": 0,
      "outputs": []
    },
    {
      "cell_type": "code",
      "metadata": {
        "id": "wk0L-8eWSH-b",
        "colab_type": "code",
        "colab": {
          "base_uri": "https://localhost:8080/",
          "height": 1000
        },
        "outputId": "cfae172f-a328-4d77-c7d9-a48ed3535dae"
      },
      "source": [
        "df"
      ],
      "execution_count": 67,
      "outputs": [
        {
          "output_type": "execute_result",
          "data": {
            "text/html": [
              "<div>\n",
              "<style scoped>\n",
              "    .dataframe tbody tr th:only-of-type {\n",
              "        vertical-align: middle;\n",
              "    }\n",
              "\n",
              "    .dataframe tbody tr th {\n",
              "        vertical-align: top;\n",
              "    }\n",
              "\n",
              "    .dataframe thead th {\n",
              "        text-align: right;\n",
              "    }\n",
              "</style>\n",
              "<table border=\"1\" class=\"dataframe\">\n",
              "  <thead>\n",
              "    <tr style=\"text-align: right;\">\n",
              "      <th></th>\n",
              "      <th>Unnamed: 0</th>\n",
              "      <th>Title</th>\n",
              "      <th>Genre</th>\n",
              "    </tr>\n",
              "    <tr>\n",
              "      <th>imdbID</th>\n",
              "      <th></th>\n",
              "      <th></th>\n",
              "      <th></th>\n",
              "    </tr>\n",
              "  </thead>\n",
              "  <tbody>\n",
              "    <tr>\n",
              "      <th>tt0080684</th>\n",
              "      <td>0</td>\n",
              "      <td>Star Wars: Episode V - The Empire Strikes Back</td>\n",
              "      <td>Action, Adventure, Fantasy</td>\n",
              "    </tr>\n",
              "    <tr>\n",
              "      <th>tt0081562</th>\n",
              "      <td>1</td>\n",
              "      <td>Stir Crazy</td>\n",
              "      <td>Comedy, Crime</td>\n",
              "    </tr>\n",
              "    <tr>\n",
              "      <th>tt0080339</th>\n",
              "      <td>2</td>\n",
              "      <td>Airplane!</td>\n",
              "      <td>Comedy</td>\n",
              "    </tr>\n",
              "    <tr>\n",
              "      <th>tt0080377</th>\n",
              "      <td>3</td>\n",
              "      <td>Any Which Way You Can</td>\n",
              "      <td>Action, Comedy</td>\n",
              "    </tr>\n",
              "    <tr>\n",
              "      <th>tt0081375</th>\n",
              "      <td>4</td>\n",
              "      <td>Private Benjamin</td>\n",
              "      <td>Comedy, War</td>\n",
              "    </tr>\n",
              "    <tr>\n",
              "      <th>tt0080549</th>\n",
              "      <td>5</td>\n",
              "      <td>Coal Miner's Daughter</td>\n",
              "      <td>Biography, Drama, Music</td>\n",
              "    </tr>\n",
              "    <tr>\n",
              "      <th>tt0081529</th>\n",
              "      <td>6</td>\n",
              "      <td>Smokey and the Bandit II</td>\n",
              "      <td>Action, Comedy</td>\n",
              "    </tr>\n",
              "    <tr>\n",
              "      <th>tt0080453</th>\n",
              "      <td>7</td>\n",
              "      <td>The Blue Lagoon</td>\n",
              "      <td>Adventure, Drama, Romance</td>\n",
              "    </tr>\n",
              "    <tr>\n",
              "      <th>tt0080455</th>\n",
              "      <td>8</td>\n",
              "      <td>The Blues Brothers</td>\n",
              "      <td>Action, Comedy, Crime</td>\n",
              "    </tr>\n",
              "    <tr>\n",
              "      <th>tt0081283</th>\n",
              "      <td>9</td>\n",
              "      <td>Ordinary People</td>\n",
              "      <td>Drama</td>\n",
              "    </tr>\n",
              "    <tr>\n",
              "      <th>tt0081353</th>\n",
              "      <td>10</td>\n",
              "      <td>Popeye</td>\n",
              "      <td>Adventure, Comedy, Family</td>\n",
              "    </tr>\n",
              "    <tr>\n",
              "      <th>tt0081696</th>\n",
              "      <td>11</td>\n",
              "      <td>Urban Cowboy</td>\n",
              "      <td>Drama, Romance, Western</td>\n",
              "    </tr>\n",
              "    <tr>\n",
              "      <th>tt0081505</th>\n",
              "      <td>12</td>\n",
              "      <td>The Shining</td>\n",
              "      <td>Drama, Horror</td>\n",
              "    </tr>\n",
              "    <tr>\n",
              "      <th>tt0081480</th>\n",
              "      <td>13</td>\n",
              "      <td>Seems Like Old Times</td>\n",
              "      <td>Comedy, Romance</td>\n",
              "    </tr>\n",
              "    <tr>\n",
              "      <th>tt0080520</th>\n",
              "      <td>14</td>\n",
              "      <td>Cheech and Chong's Next Movie</td>\n",
              "      <td>Comedy, Crime, Sci-Fi</td>\n",
              "    </tr>\n",
              "    <tr>\n",
              "      <th>tt0080487</th>\n",
              "      <td>15</td>\n",
              "      <td>Caddyshack</td>\n",
              "      <td>Comedy, Sport</td>\n",
              "    </tr>\n",
              "    <tr>\n",
              "      <th>tt0080474</th>\n",
              "      <td>16</td>\n",
              "      <td>Brubaker</td>\n",
              "      <td>Drama</td>\n",
              "    </tr>\n",
              "    <tr>\n",
              "      <th>tt0081060</th>\n",
              "      <td>17</td>\n",
              "      <td>Little Darlings</td>\n",
              "      <td>Comedy, Drama</td>\n",
              "    </tr>\n",
              "    <tr>\n",
              "      <th>tt0080661</th>\n",
              "      <td>18</td>\n",
              "      <td>Dressed to Kill</td>\n",
              "      <td>Mystery, Thriller</td>\n",
              "    </tr>\n",
              "    <tr>\n",
              "      <th>tt0080948</th>\n",
              "      <td>19</td>\n",
              "      <td>The Jazz Singer</td>\n",
              "      <td>Drama, Music, Romance</td>\n",
              "    </tr>\n",
              "    <tr>\n",
              "      <th>tt0080745</th>\n",
              "      <td>20</td>\n",
              "      <td>Flash Gordon</td>\n",
              "      <td>Action, Adventure, Sci-Fi</td>\n",
              "    </tr>\n",
              "    <tr>\n",
              "      <th>tt0080678</th>\n",
              "      <td>21</td>\n",
              "      <td>The Elephant Man</td>\n",
              "      <td>Biography, Drama</td>\n",
              "    </tr>\n",
              "    <tr>\n",
              "      <th>tt0080472</th>\n",
              "      <td>22</td>\n",
              "      <td>Bronco Billy</td>\n",
              "      <td>Action, Adventure, Comedy</td>\n",
              "    </tr>\n",
              "    <tr>\n",
              "      <th>tt0081398</th>\n",
              "      <td>23</td>\n",
              "      <td>Raging Bull</td>\n",
              "      <td>Biography, Drama, Sport</td>\n",
              "    </tr>\n",
              "    <tr>\n",
              "      <th>tt0081777</th>\n",
              "      <td>24</td>\n",
              "      <td>Xanadu</td>\n",
              "      <td>Fantasy, Musical, Romance</td>\n",
              "    </tr>\n",
              "    <tr>\n",
              "      <th>tt0080365</th>\n",
              "      <td>25</td>\n",
              "      <td>American Gigolo</td>\n",
              "      <td>Crime, Drama, Mystery</td>\n",
              "    </tr>\n",
              "    <tr>\n",
              "      <th>tt0081207</th>\n",
              "      <td>26</td>\n",
              "      <td>My Bodyguard</td>\n",
              "      <td>Comedy, Drama, Family</td>\n",
              "    </tr>\n",
              "    <tr>\n",
              "      <th>tt0080749</th>\n",
              "      <td>27</td>\n",
              "      <td>The Fog</td>\n",
              "      <td>Fantasy, Horror</td>\n",
              "    </tr>\n",
              "    <tr>\n",
              "      <th>tt0080360</th>\n",
              "      <td>28</td>\n",
              "      <td>Altered States</td>\n",
              "      <td>Horror, Sci-Fi, Thriller</td>\n",
              "    </tr>\n",
              "    <tr>\n",
              "      <th>tt0080569</th>\n",
              "      <td>29</td>\n",
              "      <td>Cruising</td>\n",
              "      <td>Crime, Mystery, Thriller</td>\n",
              "    </tr>\n",
              "    <tr>\n",
              "      <th>...</th>\n",
              "      <td>...</td>\n",
              "      <td>...</td>\n",
              "      <td>...</td>\n",
              "    </tr>\n",
              "    <tr>\n",
              "      <th>tt0080850</th>\n",
              "      <td>67</td>\n",
              "      <td>He Knows You're Alone</td>\n",
              "      <td>Horror, Thriller</td>\n",
              "    </tr>\n",
              "    <tr>\n",
              "      <th>tt0080550</th>\n",
              "      <td>68</td>\n",
              "      <td>Coast to Coast</td>\n",
              "      <td>Comedy, Drama, Romance</td>\n",
              "    </tr>\n",
              "    <tr>\n",
              "      <th>tt0081758</th>\n",
              "      <td>69</td>\n",
              "      <td>Willie &amp; Phil</td>\n",
              "      <td>Comedy, Drama, Romance</td>\n",
              "    </tr>\n",
              "    <tr>\n",
              "      <th>tt0081150</th>\n",
              "      <td>70</td>\n",
              "      <td>Melvin and Howard</td>\n",
              "      <td>Comedy, Drama</td>\n",
              "    </tr>\n",
              "    <tr>\n",
              "      <th>tt0081433</th>\n",
              "      <td>71</td>\n",
              "      <td>Roadie</td>\n",
              "      <td>Comedy, Musical</td>\n",
              "    </tr>\n",
              "    <tr>\n",
              "      <th>tt0080798</th>\n",
              "      <td>72</td>\n",
              "      <td>Gloria</td>\n",
              "      <td>Crime, Drama, Thriller</td>\n",
              "    </tr>\n",
              "    <tr>\n",
              "      <th>tt0080979</th>\n",
              "      <td>73</td>\n",
              "      <td>Kagemusha</td>\n",
              "      <td>Drama, History, War</td>\n",
              "    </tr>\n",
              "    <tr>\n",
              "      <th>tt0081414</th>\n",
              "      <td>74</td>\n",
              "      <td>Resurrection</td>\n",
              "      <td>Drama, Fantasy</td>\n",
              "    </tr>\n",
              "    <tr>\n",
              "      <th>tt0080868</th>\n",
              "      <td>75</td>\n",
              "      <td>Hide in Plain Sight</td>\n",
              "      <td>Drama</td>\n",
              "    </tr>\n",
              "    <tr>\n",
              "      <th>tt0081747</th>\n",
              "      <td>76</td>\n",
              "      <td>When Time Ran Out...</td>\n",
              "      <td>Action, Adventure, Drama</td>\n",
              "    </tr>\n",
              "    <tr>\n",
              "      <th>tt0080855</th>\n",
              "      <td>77</td>\n",
              "      <td>Heaven's Gate</td>\n",
              "      <td>Adventure, Drama, Western</td>\n",
              "    </tr>\n",
              "    <tr>\n",
              "      <th>tt0081159</th>\n",
              "      <td>78</td>\n",
              "      <td>Midnight Madness</td>\n",
              "      <td>Family, Comedy</td>\n",
              "    </tr>\n",
              "    <tr>\n",
              "      <th>tt0081080</th>\n",
              "      <td>79</td>\n",
              "      <td>Loving Couples</td>\n",
              "      <td>Comedy</td>\n",
              "    </tr>\n",
              "    <tr>\n",
              "      <th>tt0080913</th>\n",
              "      <td>80</td>\n",
              "      <td>The Idolmaker</td>\n",
              "      <td>Biography, Drama, Music</td>\n",
              "    </tr>\n",
              "    <tr>\n",
              "      <th>tt0080442</th>\n",
              "      <td>81</td>\n",
              "      <td>The Black Marble</td>\n",
              "      <td>Crime, Romance, Comedy</td>\n",
              "    </tr>\n",
              "    <tr>\n",
              "      <th>tt0080790</th>\n",
              "      <td>82</td>\n",
              "      <td>Gilda Live</td>\n",
              "      <td>Comedy, Documentary</td>\n",
              "    </tr>\n",
              "    <tr>\n",
              "      <th>tt0081759</th>\n",
              "      <td>83</td>\n",
              "      <td>Windows</td>\n",
              "      <td>Drama, Thriller</td>\n",
              "    </tr>\n",
              "    <tr>\n",
              "      <th>tt0080975</th>\n",
              "      <td>84</td>\n",
              "      <td>Just Tell Me What You Want</td>\n",
              "      <td>Comedy, Romance</td>\n",
              "    </tr>\n",
              "    <tr>\n",
              "      <th>tt0080461</th>\n",
              "      <td>85</td>\n",
              "      <td>Bon Voyage, Charlie Brown (and Don't Come Back!!)</td>\n",
              "      <td>Animation, Comedy, Family</td>\n",
              "    </tr>\n",
              "    <tr>\n",
              "      <th>tt0080500</th>\n",
              "      <td>86</td>\n",
              "      <td>Carny</td>\n",
              "      <td>Drama</td>\n",
              "    </tr>\n",
              "    <tr>\n",
              "      <th>tt0081753</th>\n",
              "      <td>87</td>\n",
              "      <td>Why Would I Lie?</td>\n",
              "      <td>Comedy, Drama</td>\n",
              "    </tr>\n",
              "    <tr>\n",
              "      <th>tt0081235</th>\n",
              "      <td>88</td>\n",
              "      <td>Nijinsky</td>\n",
              "      <td>Biography, Drama, Music</td>\n",
              "    </tr>\n",
              "    <tr>\n",
              "      <th>tt0080854</th>\n",
              "      <td>89</td>\n",
              "      <td>Heart Beat</td>\n",
              "      <td>Drama</td>\n",
              "    </tr>\n",
              "    <tr>\n",
              "      <th>tt0081280</th>\n",
              "      <td>90</td>\n",
              "      <td>One-Trick Pony</td>\n",
              "      <td>Drama</td>\n",
              "    </tr>\n",
              "    <tr>\n",
              "      <th>tt0081625</th>\n",
              "      <td>91</td>\n",
              "      <td>Those Lips, Those Eyes</td>\n",
              "      <td>Comedy, Romance</td>\n",
              "    </tr>\n",
              "    <tr>\n",
              "      <th>tt0081528</th>\n",
              "      <td>92</td>\n",
              "      <td>A Small Circle of Friends</td>\n",
              "      <td>Drama</td>\n",
              "    </tr>\n",
              "    <tr>\n",
              "      <th>tt0081044</th>\n",
              "      <td>93</td>\n",
              "      <td>Leo and Loree</td>\n",
              "      <td>Romance, Comedy</td>\n",
              "    </tr>\n",
              "    <tr>\n",
              "      <th>tt0079302</th>\n",
              "      <td>94</td>\n",
              "      <td>Home Movies</td>\n",
              "      <td>Comedy</td>\n",
              "    </tr>\n",
              "    <tr>\n",
              "      <th>tt0081334</th>\n",
              "      <td>95</td>\n",
              "      <td>Phobia</td>\n",
              "      <td>Drama, Horror, Thriller</td>\n",
              "    </tr>\n",
              "    <tr>\n",
              "      <th>tt0080469</th>\n",
              "      <td>96</td>\n",
              "      <td>Breaking Glass</td>\n",
              "      <td>Drama, Musical</td>\n",
              "    </tr>\n",
              "  </tbody>\n",
              "</table>\n",
              "<p>97 rows × 3 columns</p>\n",
              "</div>"
            ],
            "text/plain": [
              "           Unnamed: 0  ...                       Genre\n",
              "imdbID                 ...                            \n",
              "tt0080684           0  ...  Action, Adventure, Fantasy\n",
              "tt0081562           1  ...               Comedy, Crime\n",
              "tt0080339           2  ...                      Comedy\n",
              "tt0080377           3  ...              Action, Comedy\n",
              "tt0081375           4  ...                 Comedy, War\n",
              "tt0080549           5  ...     Biography, Drama, Music\n",
              "tt0081529           6  ...              Action, Comedy\n",
              "tt0080453           7  ...   Adventure, Drama, Romance\n",
              "tt0080455           8  ...       Action, Comedy, Crime\n",
              "tt0081283           9  ...                       Drama\n",
              "tt0081353          10  ...   Adventure, Comedy, Family\n",
              "tt0081696          11  ...     Drama, Romance, Western\n",
              "tt0081505          12  ...               Drama, Horror\n",
              "tt0081480          13  ...             Comedy, Romance\n",
              "tt0080520          14  ...       Comedy, Crime, Sci-Fi\n",
              "tt0080487          15  ...               Comedy, Sport\n",
              "tt0080474          16  ...                       Drama\n",
              "tt0081060          17  ...               Comedy, Drama\n",
              "tt0080661          18  ...           Mystery, Thriller\n",
              "tt0080948          19  ...       Drama, Music, Romance\n",
              "tt0080745          20  ...   Action, Adventure, Sci-Fi\n",
              "tt0080678          21  ...            Biography, Drama\n",
              "tt0080472          22  ...   Action, Adventure, Comedy\n",
              "tt0081398          23  ...     Biography, Drama, Sport\n",
              "tt0081777          24  ...   Fantasy, Musical, Romance\n",
              "tt0080365          25  ...       Crime, Drama, Mystery\n",
              "tt0081207          26  ...       Comedy, Drama, Family\n",
              "tt0080749          27  ...             Fantasy, Horror\n",
              "tt0080360          28  ...    Horror, Sci-Fi, Thriller\n",
              "tt0080569          29  ...    Crime, Mystery, Thriller\n",
              "...               ...  ...                         ...\n",
              "tt0080850          67  ...            Horror, Thriller\n",
              "tt0080550          68  ...      Comedy, Drama, Romance\n",
              "tt0081758          69  ...      Comedy, Drama, Romance\n",
              "tt0081150          70  ...               Comedy, Drama\n",
              "tt0081433          71  ...             Comedy, Musical\n",
              "tt0080798          72  ...      Crime, Drama, Thriller\n",
              "tt0080979          73  ...         Drama, History, War\n",
              "tt0081414          74  ...              Drama, Fantasy\n",
              "tt0080868          75  ...                       Drama\n",
              "tt0081747          76  ...    Action, Adventure, Drama\n",
              "tt0080855          77  ...   Adventure, Drama, Western\n",
              "tt0081159          78  ...              Family, Comedy\n",
              "tt0081080          79  ...                      Comedy\n",
              "tt0080913          80  ...     Biography, Drama, Music\n",
              "tt0080442          81  ...      Crime, Romance, Comedy\n",
              "tt0080790          82  ...         Comedy, Documentary\n",
              "tt0081759          83  ...             Drama, Thriller\n",
              "tt0080975          84  ...             Comedy, Romance\n",
              "tt0080461          85  ...   Animation, Comedy, Family\n",
              "tt0080500          86  ...                       Drama\n",
              "tt0081753          87  ...               Comedy, Drama\n",
              "tt0081235          88  ...     Biography, Drama, Music\n",
              "tt0080854          89  ...                       Drama\n",
              "tt0081280          90  ...                       Drama\n",
              "tt0081625          91  ...             Comedy, Romance\n",
              "tt0081528          92  ...                       Drama\n",
              "tt0081044          93  ...             Romance, Comedy\n",
              "tt0079302          94  ...                      Comedy\n",
              "tt0081334          95  ...     Drama, Horror, Thriller\n",
              "tt0080469          96  ...              Drama, Musical\n",
              "\n",
              "[97 rows x 3 columns]"
            ]
          },
          "metadata": {
            "tags": []
          },
          "execution_count": 67
        }
      ]
    },
    {
      "cell_type": "code",
      "metadata": {
        "colab_type": "code",
        "id": "C3oGDrDQ5fdQ",
        "colab": {}
      },
      "source": [
        "\n",
        "target.shape\n",
        "Movie_Final"
      ],
      "execution_count": 0,
      "outputs": []
    },
    {
      "cell_type": "code",
      "metadata": {
        "colab_type": "code",
        "id": "_KuFqo745fc1",
        "colab": {
          "base_uri": "https://localhost:8080/",
          "height": 445
        },
        "outputId": "fec6a1c2-eb15-412c-e111-cee6b4f6f0b3"
      },
      "source": [
        "image_width=250\n",
        "image_height=250\n",
        "X=[]\n",
        "for i in tqdm(range(Movie_Final.shape[0])):\n",
        "  path='/content/Movies-Poster_Dataset/Images' +Movie_Final['imdbID'][i] +'*.jpg'\n",
        "  img=image.load_img(path,target_size=(image_width,image_height,3))\n",
        "  img=image.img_to_array(img)\n",
        "  img=img/255.0\n",
        "  X.append(img)\n",
        "              \n",
        "x=np.array(x)"
      ],
      "execution_count": 71,
      "outputs": [
        {
          "output_type": "stream",
          "text": [
            "\r  0%|          | 0/3492 [00:00<?, ?it/s]\n"
          ],
          "name": "stderr"
        },
        {
          "output_type": "error",
          "ename": "AttributeError",
          "evalue": "ignored",
          "traceback": [
            "\u001b[0;31m---------------------------------------------------------------------------\u001b[0m",
            "\u001b[0;31mAttributeError\u001b[0m                            Traceback (most recent call last)",
            "\u001b[0;32m/usr/local/lib/python3.6/dist-packages/PIL/Image.py\u001b[0m in \u001b[0;36mopen\u001b[0;34m(fp, mode)\u001b[0m\n\u001b[1;32m   2533\u001b[0m     \u001b[0;32mtry\u001b[0m\u001b[0;34m:\u001b[0m\u001b[0;34m\u001b[0m\u001b[0;34m\u001b[0m\u001b[0m\n\u001b[0;32m-> 2534\u001b[0;31m         \u001b[0mfp\u001b[0m\u001b[0;34m.\u001b[0m\u001b[0mseek\u001b[0m\u001b[0;34m(\u001b[0m\u001b[0;36m0\u001b[0m\u001b[0;34m)\u001b[0m\u001b[0;34m\u001b[0m\u001b[0;34m\u001b[0m\u001b[0m\n\u001b[0m\u001b[1;32m   2535\u001b[0m     \u001b[0;32mexcept\u001b[0m \u001b[0;34m(\u001b[0m\u001b[0mAttributeError\u001b[0m\u001b[0;34m,\u001b[0m \u001b[0mio\u001b[0m\u001b[0;34m.\u001b[0m\u001b[0mUnsupportedOperation\u001b[0m\u001b[0;34m)\u001b[0m\u001b[0;34m:\u001b[0m\u001b[0;34m\u001b[0m\u001b[0;34m\u001b[0m\u001b[0m\n",
            "\u001b[0;32m/usr/local/lib/python3.6/dist-packages/pandas/core/generic.py\u001b[0m in \u001b[0;36m__getattr__\u001b[0;34m(self, name)\u001b[0m\n\u001b[1;32m   5066\u001b[0m                 \u001b[0;32mreturn\u001b[0m \u001b[0mself\u001b[0m\u001b[0;34m[\u001b[0m\u001b[0mname\u001b[0m\u001b[0;34m]\u001b[0m\u001b[0;34m\u001b[0m\u001b[0;34m\u001b[0m\u001b[0m\n\u001b[0;32m-> 5067\u001b[0;31m             \u001b[0;32mreturn\u001b[0m \u001b[0mobject\u001b[0m\u001b[0;34m.\u001b[0m\u001b[0m__getattribute__\u001b[0m\u001b[0;34m(\u001b[0m\u001b[0mself\u001b[0m\u001b[0;34m,\u001b[0m \u001b[0mname\u001b[0m\u001b[0;34m)\u001b[0m\u001b[0;34m\u001b[0m\u001b[0;34m\u001b[0m\u001b[0m\n\u001b[0m\u001b[1;32m   5068\u001b[0m \u001b[0;34m\u001b[0m\u001b[0m\n",
            "\u001b[0;31mAttributeError\u001b[0m: 'Series' object has no attribute 'seek'",
            "\nDuring handling of the above exception, another exception occurred:\n",
            "\u001b[0;31mAttributeError\u001b[0m                            Traceback (most recent call last)",
            "\u001b[0;32m<ipython-input-71-2bb38612fb20>\u001b[0m in \u001b[0;36m<module>\u001b[0;34m()\u001b[0m\n\u001b[1;32m      4\u001b[0m \u001b[0;32mfor\u001b[0m \u001b[0mi\u001b[0m \u001b[0;32min\u001b[0m \u001b[0mtqdm\u001b[0m\u001b[0;34m(\u001b[0m\u001b[0mrange\u001b[0m\u001b[0;34m(\u001b[0m\u001b[0mMovie_Final\u001b[0m\u001b[0;34m.\u001b[0m\u001b[0mshape\u001b[0m\u001b[0;34m[\u001b[0m\u001b[0;36m0\u001b[0m\u001b[0;34m]\u001b[0m\u001b[0;34m)\u001b[0m\u001b[0;34m)\u001b[0m\u001b[0;34m:\u001b[0m\u001b[0;34m\u001b[0m\u001b[0;34m\u001b[0m\u001b[0m\n\u001b[1;32m      5\u001b[0m   \u001b[0mpath\u001b[0m\u001b[0;34m=\u001b[0m\u001b[0;34m'/content/Movies-Poster_Dataset/Images'\u001b[0m \u001b[0;34m+\u001b[0m\u001b[0mMovie_Final\u001b[0m\u001b[0;34m[\u001b[0m\u001b[0;34m'imdbID'\u001b[0m\u001b[0;34m]\u001b[0m\u001b[0;34m[\u001b[0m\u001b[0mi\u001b[0m\u001b[0;34m]\u001b[0m \u001b[0;34m+\u001b[0m\u001b[0;34m'*.jpg'\u001b[0m\u001b[0;34m\u001b[0m\u001b[0;34m\u001b[0m\u001b[0m\n\u001b[0;32m----> 6\u001b[0;31m   \u001b[0mimg\u001b[0m\u001b[0;34m=\u001b[0m\u001b[0mimage\u001b[0m\u001b[0;34m.\u001b[0m\u001b[0mload_img\u001b[0m\u001b[0;34m(\u001b[0m\u001b[0mpath\u001b[0m\u001b[0;34m,\u001b[0m\u001b[0mtarget_size\u001b[0m\u001b[0;34m=\u001b[0m\u001b[0;34m(\u001b[0m\u001b[0mimage_width\u001b[0m\u001b[0;34m,\u001b[0m\u001b[0mimage_height\u001b[0m\u001b[0;34m,\u001b[0m\u001b[0;36m3\u001b[0m\u001b[0;34m)\u001b[0m\u001b[0;34m)\u001b[0m\u001b[0;34m\u001b[0m\u001b[0;34m\u001b[0m\u001b[0m\n\u001b[0m\u001b[1;32m      7\u001b[0m   \u001b[0mimg\u001b[0m\u001b[0;34m=\u001b[0m\u001b[0mimage\u001b[0m\u001b[0;34m.\u001b[0m\u001b[0mimg_to_array\u001b[0m\u001b[0;34m(\u001b[0m\u001b[0mimg\u001b[0m\u001b[0;34m)\u001b[0m\u001b[0;34m\u001b[0m\u001b[0;34m\u001b[0m\u001b[0m\n\u001b[1;32m      8\u001b[0m   \u001b[0mimg\u001b[0m\u001b[0;34m=\u001b[0m\u001b[0mimg\u001b[0m\u001b[0;34m/\u001b[0m\u001b[0;36m255.0\u001b[0m\u001b[0;34m\u001b[0m\u001b[0;34m\u001b[0m\u001b[0m\n",
            "\u001b[0;32m/usr/local/lib/python3.6/dist-packages/keras_preprocessing/image/utils.py\u001b[0m in \u001b[0;36mload_img\u001b[0;34m(path, grayscale, color_mode, target_size, interpolation)\u001b[0m\n\u001b[1;32m    108\u001b[0m         raise ImportError('Could not import PIL.Image. '\n\u001b[1;32m    109\u001b[0m                           'The use of `load_img` requires PIL.')\n\u001b[0;32m--> 110\u001b[0;31m     \u001b[0mimg\u001b[0m \u001b[0;34m=\u001b[0m \u001b[0mpil_image\u001b[0m\u001b[0;34m.\u001b[0m\u001b[0mopen\u001b[0m\u001b[0;34m(\u001b[0m\u001b[0mpath\u001b[0m\u001b[0;34m)\u001b[0m\u001b[0;34m\u001b[0m\u001b[0;34m\u001b[0m\u001b[0m\n\u001b[0m\u001b[1;32m    111\u001b[0m     \u001b[0;32mif\u001b[0m \u001b[0mcolor_mode\u001b[0m \u001b[0;34m==\u001b[0m \u001b[0;34m'grayscale'\u001b[0m\u001b[0;34m:\u001b[0m\u001b[0;34m\u001b[0m\u001b[0;34m\u001b[0m\u001b[0m\n\u001b[1;32m    112\u001b[0m         \u001b[0;32mif\u001b[0m \u001b[0mimg\u001b[0m\u001b[0;34m.\u001b[0m\u001b[0mmode\u001b[0m \u001b[0;34m!=\u001b[0m \u001b[0;34m'L'\u001b[0m\u001b[0;34m:\u001b[0m\u001b[0;34m\u001b[0m\u001b[0;34m\u001b[0m\u001b[0m\n",
            "\u001b[0;32m/usr/local/lib/python3.6/dist-packages/PIL/Image.py\u001b[0m in \u001b[0;36mopen\u001b[0;34m(fp, mode)\u001b[0m\n\u001b[1;32m   2534\u001b[0m         \u001b[0mfp\u001b[0m\u001b[0;34m.\u001b[0m\u001b[0mseek\u001b[0m\u001b[0;34m(\u001b[0m\u001b[0;36m0\u001b[0m\u001b[0;34m)\u001b[0m\u001b[0;34m\u001b[0m\u001b[0;34m\u001b[0m\u001b[0m\n\u001b[1;32m   2535\u001b[0m     \u001b[0;32mexcept\u001b[0m \u001b[0;34m(\u001b[0m\u001b[0mAttributeError\u001b[0m\u001b[0;34m,\u001b[0m \u001b[0mio\u001b[0m\u001b[0;34m.\u001b[0m\u001b[0mUnsupportedOperation\u001b[0m\u001b[0;34m)\u001b[0m\u001b[0;34m:\u001b[0m\u001b[0;34m\u001b[0m\u001b[0;34m\u001b[0m\u001b[0m\n\u001b[0;32m-> 2536\u001b[0;31m         \u001b[0mfp\u001b[0m \u001b[0;34m=\u001b[0m \u001b[0mio\u001b[0m\u001b[0;34m.\u001b[0m\u001b[0mBytesIO\u001b[0m\u001b[0;34m(\u001b[0m\u001b[0mfp\u001b[0m\u001b[0;34m.\u001b[0m\u001b[0mread\u001b[0m\u001b[0;34m(\u001b[0m\u001b[0;34m)\u001b[0m\u001b[0;34m)\u001b[0m\u001b[0;34m\u001b[0m\u001b[0;34m\u001b[0m\u001b[0m\n\u001b[0m\u001b[1;32m   2537\u001b[0m         \u001b[0mexclusive_fp\u001b[0m \u001b[0;34m=\u001b[0m \u001b[0;32mTrue\u001b[0m\u001b[0;34m\u001b[0m\u001b[0;34m\u001b[0m\u001b[0m\n\u001b[1;32m   2538\u001b[0m \u001b[0;34m\u001b[0m\u001b[0m\n",
            "\u001b[0;32m/usr/local/lib/python3.6/dist-packages/pandas/core/generic.py\u001b[0m in \u001b[0;36m__getattr__\u001b[0;34m(self, name)\u001b[0m\n\u001b[1;32m   5065\u001b[0m             \u001b[0;32mif\u001b[0m \u001b[0mself\u001b[0m\u001b[0;34m.\u001b[0m\u001b[0m_info_axis\u001b[0m\u001b[0;34m.\u001b[0m\u001b[0m_can_hold_identifiers_and_holds_name\u001b[0m\u001b[0;34m(\u001b[0m\u001b[0mname\u001b[0m\u001b[0;34m)\u001b[0m\u001b[0;34m:\u001b[0m\u001b[0;34m\u001b[0m\u001b[0;34m\u001b[0m\u001b[0m\n\u001b[1;32m   5066\u001b[0m                 \u001b[0;32mreturn\u001b[0m \u001b[0mself\u001b[0m\u001b[0;34m[\u001b[0m\u001b[0mname\u001b[0m\u001b[0;34m]\u001b[0m\u001b[0;34m\u001b[0m\u001b[0;34m\u001b[0m\u001b[0m\n\u001b[0;32m-> 5067\u001b[0;31m             \u001b[0;32mreturn\u001b[0m \u001b[0mobject\u001b[0m\u001b[0;34m.\u001b[0m\u001b[0m__getattribute__\u001b[0m\u001b[0;34m(\u001b[0m\u001b[0mself\u001b[0m\u001b[0;34m,\u001b[0m \u001b[0mname\u001b[0m\u001b[0;34m)\u001b[0m\u001b[0;34m\u001b[0m\u001b[0;34m\u001b[0m\u001b[0m\n\u001b[0m\u001b[1;32m   5068\u001b[0m \u001b[0;34m\u001b[0m\u001b[0m\n\u001b[1;32m   5069\u001b[0m     \u001b[0;32mdef\u001b[0m \u001b[0m__setattr__\u001b[0m\u001b[0;34m(\u001b[0m\u001b[0mself\u001b[0m\u001b[0;34m,\u001b[0m \u001b[0mname\u001b[0m\u001b[0;34m,\u001b[0m \u001b[0mvalue\u001b[0m\u001b[0;34m)\u001b[0m\u001b[0;34m:\u001b[0m\u001b[0;34m\u001b[0m\u001b[0;34m\u001b[0m\u001b[0m\n",
            "\u001b[0;31mAttributeError\u001b[0m: 'Series' object has no attribute 'read'"
          ]
        }
      ]
    },
    {
      "cell_type": "code",
      "metadata": {
        "id": "KIoj_YX6Cvy8",
        "colab_type": "code",
        "colab": {
          "base_uri": "https://localhost:8080/",
          "height": 233
        },
        "outputId": "a8b170e7-4cbf-409d-9401-d0b283ab3ea2"
      },
      "source": [
        "for i in tqdm(range(data.shape[0])):\n",
        "  path = '/content/Movies-Poster_Dataset/Images/' + data['Id'][i] + '.jpg'\n",
        "  img = image.load_img(path, target_size=(img_width, img_height, 3))\n",
        "  img = image.img_to_array(img)\n",
        "  img = img/255.0\n",
        "  X.append(img)"
      ],
      "execution_count": 72,
      "outputs": [
        {
          "output_type": "error",
          "ename": "NameError",
          "evalue": "ignored",
          "traceback": [
            "\u001b[0;31m---------------------------------------------------------------------------\u001b[0m",
            "\u001b[0;31mNameError\u001b[0m                                 Traceback (most recent call last)",
            "\u001b[0;32m<ipython-input-72-f0e867fe530e>\u001b[0m in \u001b[0;36m<module>\u001b[0;34m()\u001b[0m\n\u001b[0;32m----> 1\u001b[0;31m \u001b[0;32mfor\u001b[0m \u001b[0mi\u001b[0m \u001b[0;32min\u001b[0m \u001b[0mtqdm\u001b[0m\u001b[0;34m(\u001b[0m\u001b[0mrange\u001b[0m\u001b[0;34m(\u001b[0m\u001b[0mdata\u001b[0m\u001b[0;34m.\u001b[0m\u001b[0mshape\u001b[0m\u001b[0;34m[\u001b[0m\u001b[0;36m0\u001b[0m\u001b[0;34m]\u001b[0m\u001b[0;34m)\u001b[0m\u001b[0;34m)\u001b[0m\u001b[0;34m:\u001b[0m\u001b[0;34m\u001b[0m\u001b[0;34m\u001b[0m\u001b[0m\n\u001b[0m\u001b[1;32m      2\u001b[0m   \u001b[0mpath\u001b[0m \u001b[0;34m=\u001b[0m \u001b[0;34m'/content/Movies-Poster_Dataset/Images/'\u001b[0m \u001b[0;34m+\u001b[0m \u001b[0mdata\u001b[0m\u001b[0;34m[\u001b[0m\u001b[0;34m'Id'\u001b[0m\u001b[0;34m]\u001b[0m\u001b[0;34m[\u001b[0m\u001b[0mi\u001b[0m\u001b[0;34m]\u001b[0m \u001b[0;34m+\u001b[0m \u001b[0;34m'.jpg'\u001b[0m\u001b[0;34m\u001b[0m\u001b[0;34m\u001b[0m\u001b[0m\n\u001b[1;32m      3\u001b[0m   \u001b[0mimg\u001b[0m \u001b[0;34m=\u001b[0m \u001b[0mimage\u001b[0m\u001b[0;34m.\u001b[0m\u001b[0mload_img\u001b[0m\u001b[0;34m(\u001b[0m\u001b[0mpath\u001b[0m\u001b[0;34m,\u001b[0m \u001b[0mtarget_size\u001b[0m\u001b[0;34m=\u001b[0m\u001b[0;34m(\u001b[0m\u001b[0mimg_width\u001b[0m\u001b[0;34m,\u001b[0m \u001b[0mimg_height\u001b[0m\u001b[0;34m,\u001b[0m \u001b[0;36m3\u001b[0m\u001b[0;34m)\u001b[0m\u001b[0;34m)\u001b[0m\u001b[0;34m\u001b[0m\u001b[0;34m\u001b[0m\u001b[0m\n\u001b[1;32m      4\u001b[0m   \u001b[0mimg\u001b[0m \u001b[0;34m=\u001b[0m \u001b[0mimage\u001b[0m\u001b[0;34m.\u001b[0m\u001b[0mimg_to_array\u001b[0m\u001b[0;34m(\u001b[0m\u001b[0mimg\u001b[0m\u001b[0;34m)\u001b[0m\u001b[0;34m\u001b[0m\u001b[0;34m\u001b[0m\u001b[0m\n\u001b[1;32m      5\u001b[0m   \u001b[0mimg\u001b[0m \u001b[0;34m=\u001b[0m \u001b[0mimg\u001b[0m\u001b[0;34m/\u001b[0m\u001b[0;36m255.0\u001b[0m\u001b[0;34m\u001b[0m\u001b[0;34m\u001b[0m\u001b[0m\n",
            "\u001b[0;31mNameError\u001b[0m: name 'data' is not defined"
          ]
        }
      ]
    },
    {
      "cell_type": "code",
      "metadata": {
        "id": "gGhuLGesT-oF",
        "colab_type": "code",
        "colab": {}
      },
      "source": [
        ""
      ],
      "execution_count": 0,
      "outputs": []
    }
  ]
}