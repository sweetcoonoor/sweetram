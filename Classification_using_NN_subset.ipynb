{
  "nbformat": 4,
  "nbformat_minor": 0,
  "metadata": {
    "colab": {
      "name": "Classification using NN.ipynb",
      "provenance": [],
      "collapsed_sections": [],
      "toc_visible": true
    },
    "kernelspec": {
      "name": "python3",
      "display_name": "Python 3"
    }
  },
  "cells": [
    {
      "cell_type": "markdown",
      "metadata": {
        "id": "XNb4D33Km-Aw",
        "colab_type": "text"
      },
      "source": [
        "# Introduction\n",
        "\n",
        "We propose to achieve movie genre classification based only on movie poster images. A deep neural network is constructed to jointly describe visual appearance and object information, and classify a given movie poster image into genres. Because a movie may belong to multiple genres, this is a multi-label image classification problem. To facilitate related studies, we collect a large-scale movie poster dataset, associated with various metadata. Based on this dataset, we fine-tune a pre-trained convolutional neural network to extract visual representation and adopt a state-of-the-art framework to detect objects in posters. Two types of information are then integrated by the proposed neural network. In the evaluation, we show that the proposed method yields encouraging performance, which is much better than previous works. \n",
        "\n"
      ]
    },
    {
      "cell_type": "code",
      "metadata": {
        "id": "2HUGzAP8LcRv",
        "colab_type": "code",
        "outputId": "5bcf6742-34ee-454b-b8e2-ac72c7868941",
        "colab": {
          "base_uri": "https://localhost:8080/",
          "height": 666
        }
      },
      "source": [
        "!pip install tensorflow-gpu==2.0.0"
      ],
      "execution_count": 0,
      "outputs": [
        {
          "output_type": "stream",
          "text": [
            "Collecting tensorflow-gpu==2.0.0\n",
            "\u001b[?25l  Downloading https://files.pythonhosted.org/packages/25/44/47f0722aea081697143fbcf5d2aa60d1aee4aaacb5869aee2b568974777b/tensorflow_gpu-2.0.0-cp36-cp36m-manylinux2010_x86_64.whl (380.8MB)\n",
            "\u001b[K     |████████████████████████████████| 380.8MB 38kB/s \n",
            "\u001b[?25hRequirement already satisfied: protobuf>=3.6.1 in /usr/local/lib/python3.6/dist-packages (from tensorflow-gpu==2.0.0) (3.10.0)\n",
            "Requirement already satisfied: keras-applications>=1.0.8 in /usr/local/lib/python3.6/dist-packages (from tensorflow-gpu==2.0.0) (1.0.8)\n",
            "Requirement already satisfied: termcolor>=1.1.0 in /usr/local/lib/python3.6/dist-packages (from tensorflow-gpu==2.0.0) (1.1.0)\n",
            "Requirement already satisfied: grpcio>=1.8.6 in /usr/local/lib/python3.6/dist-packages (from tensorflow-gpu==2.0.0) (1.15.0)\n",
            "Requirement already satisfied: wheel>=0.26 in /usr/local/lib/python3.6/dist-packages (from tensorflow-gpu==2.0.0) (0.33.6)\n",
            "Collecting tensorboard<2.1.0,>=2.0.0\n",
            "\u001b[?25l  Downloading https://files.pythonhosted.org/packages/9b/a6/e8ffa4e2ddb216449d34cfcb825ebb38206bee5c4553d69e7bc8bc2c5d64/tensorboard-2.0.0-py3-none-any.whl (3.8MB)\n",
            "\u001b[K     |████████████████████████████████| 3.8MB 43.7MB/s \n",
            "\u001b[?25hRequirement already satisfied: opt-einsum>=2.3.2 in /usr/local/lib/python3.6/dist-packages (from tensorflow-gpu==2.0.0) (3.1.0)\n",
            "Requirement already satisfied: keras-preprocessing>=1.0.5 in /usr/local/lib/python3.6/dist-packages (from tensorflow-gpu==2.0.0) (1.1.0)\n",
            "Requirement already satisfied: gast==0.2.2 in /usr/local/lib/python3.6/dist-packages (from tensorflow-gpu==2.0.0) (0.2.2)\n",
            "Requirement already satisfied: numpy<2.0,>=1.16.0 in /usr/local/lib/python3.6/dist-packages (from tensorflow-gpu==2.0.0) (1.16.5)\n",
            "Requirement already satisfied: six>=1.10.0 in /usr/local/lib/python3.6/dist-packages (from tensorflow-gpu==2.0.0) (1.12.0)\n",
            "Requirement already satisfied: google-pasta>=0.1.6 in /usr/local/lib/python3.6/dist-packages (from tensorflow-gpu==2.0.0) (0.1.7)\n",
            "Requirement already satisfied: astor>=0.6.0 in /usr/local/lib/python3.6/dist-packages (from tensorflow-gpu==2.0.0) (0.8.0)\n",
            "Collecting tensorflow-estimator<2.1.0,>=2.0.0\n",
            "\u001b[?25l  Downloading https://files.pythonhosted.org/packages/fc/08/8b927337b7019c374719145d1dceba21a8bb909b93b1ad6f8fb7d22c1ca1/tensorflow_estimator-2.0.1-py2.py3-none-any.whl (449kB)\n",
            "\u001b[K     |████████████████████████████████| 450kB 50.7MB/s \n",
            "\u001b[?25hRequirement already satisfied: absl-py>=0.7.0 in /usr/local/lib/python3.6/dist-packages (from tensorflow-gpu==2.0.0) (0.8.1)\n",
            "Requirement already satisfied: wrapt>=1.11.1 in /usr/local/lib/python3.6/dist-packages (from tensorflow-gpu==2.0.0) (1.11.2)\n",
            "Requirement already satisfied: setuptools in /usr/local/lib/python3.6/dist-packages (from protobuf>=3.6.1->tensorflow-gpu==2.0.0) (41.4.0)\n",
            "Requirement already satisfied: h5py in /usr/local/lib/python3.6/dist-packages (from keras-applications>=1.0.8->tensorflow-gpu==2.0.0) (2.8.0)\n",
            "Requirement already satisfied: markdown>=2.6.8 in /usr/local/lib/python3.6/dist-packages (from tensorboard<2.1.0,>=2.0.0->tensorflow-gpu==2.0.0) (3.1.1)\n",
            "Requirement already satisfied: werkzeug>=0.11.15 in /usr/local/lib/python3.6/dist-packages (from tensorboard<2.1.0,>=2.0.0->tensorflow-gpu==2.0.0) (0.16.0)\n",
            "\u001b[31mERROR: tensorflow 1.15.0 has requirement tensorboard<1.16.0,>=1.15.0, but you'll have tensorboard 2.0.0 which is incompatible.\u001b[0m\n",
            "\u001b[31mERROR: tensorflow 1.15.0 has requirement tensorflow-estimator==1.15.1, but you'll have tensorflow-estimator 2.0.1 which is incompatible.\u001b[0m\n",
            "Installing collected packages: tensorboard, tensorflow-estimator, tensorflow-gpu\n",
            "  Found existing installation: tensorboard 1.15.0\n",
            "    Uninstalling tensorboard-1.15.0:\n",
            "      Successfully uninstalled tensorboard-1.15.0\n",
            "  Found existing installation: tensorflow-estimator 1.15.1\n",
            "    Uninstalling tensorflow-estimator-1.15.1:\n",
            "      Successfully uninstalled tensorflow-estimator-1.15.1\n",
            "Successfully installed tensorboard-2.0.0 tensorflow-estimator-2.0.1 tensorflow-gpu-2.0.0\n"
          ],
          "name": "stdout"
        }
      ]
    },
    {
      "cell_type": "markdown",
      "metadata": {
        "id": "rV1WA_dqaQiq",
        "colab_type": "text"
      },
      "source": [
        "# Multi-Label Classification\n",
        "\n",
        "Each sample can belong to more than one class. The CNN will have as well \n",
        "C\n",
        " output neurons. The target vector \n",
        "t\n",
        " can have more than a positive class, so it will be a vector of 0s and 1s with \n",
        "C\n",
        " dimensionality.\n",
        "This task is treated as \n",
        "C\n",
        " different binary \n",
        "(\n",
        "C\n",
        "′\n",
        "=\n",
        "2\n",
        ",\n",
        "t\n",
        "′\n",
        "=\n",
        "0\n",
        " or \n",
        "t\n",
        "′\n",
        "=\n",
        "1\n",
        ")\n",
        " and independent classification problems, where each output neuron decides if a sample belongs to a class or not.\n",
        " \n",
        "(![alt text](https://gombru.github.io/assets/cross_entropy_loss/multiclass_multilabel.png))"
      ]
    },
    {
      "cell_type": "markdown",
      "metadata": {
        "id": "gI4YHxw-aRCS",
        "colab_type": "text"
      },
      "source": [
        "![alt text](https://)# New Section"
      ]
    },
    {
      "cell_type": "code",
      "metadata": {
        "id": "9dObdkGS1Y_b",
        "colab_type": "code",
        "colab": {}
      },
      "source": [
        "import pandas as pd\n",
        "import json\n",
        "import glob  \n",
        "import matplotlib.pyplot as plt\n",
        "import numpy as np\n",
        "import tensorflow as tf\n",
        "from tensorflow.keras import Sequential\n",
        "from tensorflow.keras.layers import Flatten,Dense,Conv2D,MaxPool2D\n"
      ],
      "execution_count": 0,
      "outputs": []
    },
    {
      "cell_type": "code",
      "metadata": {
        "id": "8ip5tDrM2xsh",
        "colab_type": "code",
        "colab": {}
      },
      "source": [
        "from tensorflow.keras.optimizers import Adam\n",
        "from tensorflow.keras.preprocessing import image"
      ],
      "execution_count": 0,
      "outputs": []
    },
    {
      "cell_type": "code",
      "metadata": {
        "id": "8rcdHH_64sR4",
        "colab_type": "code",
        "colab": {}
      },
      "source": [
        "from sklearn.model_selection import train_test_split\n",
        "from tqdm import tqdm"
      ],
      "execution_count": 0,
      "outputs": []
    },
    {
      "cell_type": "code",
      "metadata": {
        "id": "IvMAtYFQ4L3d",
        "colab_type": "code",
        "outputId": "8c181319-81c3-4898-f24a-de695cf8070b",
        "colab": {
          "base_uri": "https://localhost:8080/",
          "height": 34
        }
      },
      "source": [
        "print(tf.__version__)"
      ],
      "execution_count": 0,
      "outputs": [
        {
          "output_type": "stream",
          "text": [
            "2.0.0\n"
          ],
          "name": "stdout"
        }
      ]
    },
    {
      "cell_type": "code",
      "metadata": {
        "colab_type": "code",
        "id": "gnQbxDG65ffF",
        "colab": {}
      },
      "source": [
        "\n",
        "  from google.colab import drive\n",
        "drive.mount('/content/drive')"
      ],
      "execution_count": 0,
      "outputs": []
    },
    {
      "cell_type": "code",
      "metadata": {
        "id": "qz_gRKxKvlw9",
        "colab_type": "code",
        "colab": {}
      },
      "source": [
        "from zipfile import ZipFile\n",
        "# Create a ZipFile Object and load Movie_poster_dataset.zip in it\n",
        "with ZipFile('/content/drive/My Drive/Movie_Poster_Dataset.zip', 'r') as zipObj:\n",
        "   # Extract all the contents of zip file in different directory\n",
        "   zipObj.extractall('/content/Multiclassification_Genre/images')"
      ],
      "execution_count": 0,
      "outputs": []
    },
    {
      "cell_type": "code",
      "metadata": {
        "id": "bhKCrqb8wbe7",
        "colab_type": "code",
        "colab": {}
      },
      "source": [
        "from zipfile import ZipFile\n",
        "# Create a ZipFile Object and load Movie_poster_Metadata in it\n",
        "with ZipFile('/content/drive/My Drive/Movie_Poster_Metadata.zip', 'r') as zipObj:\n",
        "   # Extract all the contents of zip file in different directory\n",
        "   zipObj.extractall('/content/Multiclassification_Genre/MoviesList')"
      ],
      "execution_count": 0,
      "outputs": []
    },
    {
      "cell_type": "code",
      "metadata": {
        "colab_type": "code",
        "id": "VQSN6KxI5ffA",
        "colab": {}
      },
      "source": [
        "ff=open(\"/content/Multiclassification_Genre/MoviesList/groundtruth/1980.txt\",\"r\")\n",
        "Movies=ff.read()\n",
        "comma=Movies.replace(\"}\",\"},\")\n",
        "newc=comma[:-2]\n",
        "sqaureAdd=\"[\"+newc+\"]\"\n",
        "aaa=sqaureAdd.replace(\"\\n\",\"\")\n",
        "jj=aaa.replace(\"ObjectId(\",\"\").replace(\"\\\")\",\"\\\"\")\n",
        "fin=json.loads(jj)\n",
        "df = pd.DataFrame.from_dict(fin, orient='columns')"
      ],
      "execution_count": 0,
      "outputs": []
    },
    {
      "cell_type": "code",
      "metadata": {
        "colab_type": "code",
        "id": "2wacuKSx5fe7",
        "colab": {}
      },
      "source": [
        "cols=df.columns\n",
        "dfFin=pd.DataFrame(columns=cols)\n",
        "cols=df.columns\n",
        "dfFin=pd.DataFrame(columns=cols)\n",
        "dfFin\n",
        "dfFin2=dfFin"
      ],
      "execution_count": 0,
      "outputs": []
    },
    {
      "cell_type": "code",
      "metadata": {
        "id": "KfRMu2Qap71B",
        "colab_type": "code",
        "colab": {
          "base_uri": "https://localhost:8080/",
          "height": 122
        },
        "outputId": "806426e5-9118-443e-bf52-54d5dd1ee296"
      },
      "source": [
        "from google.colab import drive\n",
        "drive.mount('/content/drive')"
      ],
      "execution_count": 3,
      "outputs": [
        {
          "output_type": "stream",
          "text": [
            "Go to this URL in a browser: https://accounts.google.com/o/oauth2/auth?client_id=947318989803-6bn6qk8qdgf4n4g3pfee6491hc0brc4i.apps.googleusercontent.com&redirect_uri=urn%3Aietf%3Awg%3Aoauth%3A2.0%3Aoob&scope=email%20https%3A%2F%2Fwww.googleapis.com%2Fauth%2Fdocs.test%20https%3A%2F%2Fwww.googleapis.com%2Fauth%2Fdrive%20https%3A%2F%2Fwww.googleapis.com%2Fauth%2Fdrive.photos.readonly%20https%3A%2F%2Fwww.googleapis.com%2Fauth%2Fpeopleapi.readonly&response_type=code\n",
            "\n",
            "Enter your authorization code:\n",
            "··········\n",
            "Mounted at /content/drive\n"
          ],
          "name": "stdout"
        }
      ]
    },
    {
      "cell_type": "code",
      "metadata": {
        "id": "5hXivjbdrwns",
        "colab_type": "code",
        "colab": {}
      },
      "source": [
        "import os\n",
        "local_download_path = os.path.expanduser('~/data')\n",
        "try:\n",
        "  os.makedirs(local_download_path)\n",
        "except: pass"
      ],
      "execution_count": 0,
      "outputs": []
    },
    {
      "cell_type": "code",
      "metadata": {
        "colab_type": "code",
        "outputId": "59bdbefc-c8e2-45eb-ff15-f0e3ab4ec080",
        "id": "_AIZNlTE5fe0",
        "colab": {
          "base_uri": "https://localhost:8080/",
          "height": 34
        }
      },
      "source": [
        "all_files = glob.glob(\"/content/Multiclassification_Genre/MoviesLis/*.txt\")\n",
        "\n",
        "print((all_files))\n",
        "count=0\n",
        "for files in all_files:\n",
        "  try:\n",
        "    ff=open(files,\"r\",encoding='utf-16')\n",
        "    stringg=ff.read()\n",
        "    comma=Movies.replace(\"}\",\"},\")\n",
        "    newc=comma[:-2]\n",
        "    sqaureAdd=\"[\"+newc+\"]\"\n",
        "    aaa=sqaureAdd.replace(\"\\n\",\"\")\n",
        "    jj=aaa.replace(\"ObjectId(\",\"\").replace(\"\\\")\",\"\\\"\")\n",
        "    fin=json.loads(jj)\n",
        "    df = pd.DataFrame.from_dict(fin, orient='columns')\n",
        "    dfFin=pd.concat([dfFin,df])\n",
        "  except:\n",
        "    ff=open(files,\"r\",encoding='utf-8')\n",
        "    stringg=ff.read()\n",
        "    comma=Movies.replace(\"}\",\"},\")\n",
        "    newc=comma[:-2]\n",
        "    sqaureAdd=\"[\"+newc+\"]\"\n",
        "    aaa=sqaureAdd.replace(\"\\n\",\"\")\n",
        "    jj=aaa.replace(\"ObjectId(\",\"\").replace(\"\\\")\",\"\\\"\")\n",
        "    fin=json.loads(jj)\n",
        "    df = pd.DataFrame.from_dict(fin, orient='columns')\n",
        "    dfFin=pd.concat([dfFin,df])\n",
        "    "
      ],
      "execution_count": 14,
      "outputs": [
        {
          "output_type": "stream",
          "text": [
            "[]\n"
          ],
          "name": "stdout"
        }
      ]
    },
    {
      "cell_type": "code",
      "metadata": {
        "colab_type": "code",
        "id": "pc_930-k5fer",
        "outputId": "93e50fca-3d72-400e-e4d9-5d0b369762a1",
        "colab": {
          "base_uri": "https://localhost:8080/",
          "height": 199
        }
      },
      "source": [
        "Movie_data=pd.concat([dfFin,dfFin2])\n",
        "#Movie_data.head()\n",
        "Movie_data\n"
      ],
      "execution_count": 15,
      "outputs": [
        {
          "output_type": "error",
          "ename": "NameError",
          "evalue": "ignored",
          "traceback": [
            "\u001b[0;31m---------------------------------------------------------------------------\u001b[0m",
            "\u001b[0;31mNameError\u001b[0m                                 Traceback (most recent call last)",
            "\u001b[0;32m<ipython-input-15-4e6ddd3df754>\u001b[0m in \u001b[0;36m<module>\u001b[0;34m()\u001b[0m\n\u001b[0;32m----> 1\u001b[0;31m \u001b[0mMovie_data\u001b[0m\u001b[0;34m=\u001b[0m\u001b[0mpd\u001b[0m\u001b[0;34m.\u001b[0m\u001b[0mconcat\u001b[0m\u001b[0;34m(\u001b[0m\u001b[0;34m[\u001b[0m\u001b[0mdfFin\u001b[0m\u001b[0;34m,\u001b[0m\u001b[0mdfFin2\u001b[0m\u001b[0;34m]\u001b[0m\u001b[0;34m)\u001b[0m\u001b[0;34m\u001b[0m\u001b[0;34m\u001b[0m\u001b[0m\n\u001b[0m\u001b[1;32m      2\u001b[0m \u001b[0;31m#Movie_data.head()\u001b[0m\u001b[0;34m\u001b[0m\u001b[0;34m\u001b[0m\u001b[0;34m\u001b[0m\u001b[0m\n\u001b[1;32m      3\u001b[0m \u001b[0mMovie_data\u001b[0m\u001b[0;34m\u001b[0m\u001b[0;34m\u001b[0m\u001b[0m\n",
            "\u001b[0;31mNameError\u001b[0m: name 'dfFin' is not defined"
          ]
        }
      ]
    },
    {
      "cell_type": "markdown",
      "metadata": {
        "colab_type": "text",
        "id": "GTZFtsYp5fen"
      },
      "source": [
        "Data Exploration and Pre-processing"
      ]
    },
    {
      "cell_type": "code",
      "metadata": {
        "colab_type": "code",
        "id": "0dMG59Dl5feZ",
        "colab": {}
      },
      "source": [
        "#Creating a subset of the the total data\n",
        "\n",
        "Movie_Final=Movie_data[['imdbID','Genre',]]\n"
      ],
      "execution_count": 0,
      "outputs": []
    },
    {
      "cell_type": "code",
      "metadata": {
        "colab_type": "code",
        "id": "EoI-gfoD5fd7",
        "colab": {}
      },
      "source": [
        "Movie_Final.to_csv('Movie_genre.csv',encoding=\"ISO-8859-1\")"
      ],
      "execution_count": 0,
      "outputs": []
    },
    {
      "cell_type": "code",
      "metadata": {
        "colab_type": "code",
        "id": "2kNy2T2o5fdm",
        "outputId": "2f2f95d8-0276-4cf4-a07d-69d79682f70e",
        "colab": {
          "base_uri": "https://localhost:8080/",
          "height": 34
        }
      },
      "source": [
        "#Onehot encoding\n",
        "data = pd.read_csv(\"Movie_genre.csv\")\n",
        "data.shape\n",
        "\n",
        "#df.dropna(subset=['Genre'],inplace=True)\n",
        "#df.drop_duplicates(subset=['imdbID'], keep='first', inplace=True)\n",
        "#df.set_index('imdbID',inplace=True)\n",
        "#target = df['Genre'].apply(lambda x: [w.strip() for w in x.split(',')])\n",
        "#genres = pd.get_dummies(target.apply(pd.Series).stack()).sum(level=0)\n"
      ],
      "execution_count": 0,
      "outputs": [
        {
          "output_type": "execute_result",
          "data": {
            "text/plain": [
              "(6984, 4)"
            ]
          },
          "metadata": {
            "tags": []
          },
          "execution_count": 108
        }
      ]
    },
    {
      "cell_type": "code",
      "metadata": {
        "id": "wk0L-8eWSH-b",
        "colab_type": "code",
        "colab": {}
      },
      "source": [
        "data"
      ],
      "execution_count": 0,
      "outputs": []
    },
    {
      "cell_type": "code",
      "metadata": {
        "id": "gGhuLGesT-oF",
        "colab_type": "code",
        "outputId": "0dcf318c-0d18-4bb4-87fb-af5758b63c5f",
        "colab": {
          "base_uri": "https://localhost:8080/",
          "height": 139
        }
      },
      "source": [
        "Movie_genre=Movie_Final\n",
        "Movie_genre['Genre']=[elem[0] for elem in Movie_genre['Genre']]"
      ],
      "execution_count": 0,
      "outputs": [
        {
          "output_type": "stream",
          "text": [
            "/usr/local/lib/python3.6/dist-packages/ipykernel_launcher.py:2: SettingWithCopyWarning: \n",
            "A value is trying to be set on a copy of a slice from a DataFrame.\n",
            "Try using .loc[row_indexer,col_indexer] = value instead\n",
            "\n",
            "See the caveats in the documentation: http://pandas.pydata.org/pandas-docs/stable/indexing.html#indexing-view-versus-copy\n",
            "  \n"
          ],
          "name": "stderr"
        }
      ]
    },
    {
      "cell_type": "code",
      "metadata": {
        "id": "DlUePIXWkEBV",
        "colab_type": "code",
        "colab": {}
      },
      "source": [
        "Moviegenrestats=Movie_genre.groupby('Genre').size().reset_index(name='counts')"
      ],
      "execution_count": 0,
      "outputs": []
    },
    {
      "cell_type": "code",
      "metadata": {
        "id": "c8ryCzDBlJRJ",
        "colab_type": "code",
        "colab": {}
      },
      "source": [
        "Moviegenrestats=Moviegenrestats.sort_values('counts',ascending=False)"
      ],
      "execution_count": 0,
      "outputs": []
    },
    {
      "cell_type": "code",
      "metadata": {
        "id": "lEGosSYYlW2w",
        "colab_type": "code",
        "colab": {}
      },
      "source": [
        "MovieFilter=list(Moviegenrestats)"
      ],
      "execution_count": 0,
      "outputs": []
    },
    {
      "cell_type": "code",
      "metadata": {
        "id": "SYjQmLvl_JLY",
        "colab_type": "code",
        "colab": {}
      },
      "source": [
        "#Getting the image Id's\n",
        "image_paths = glob.glob(\"/content/Multiclassification_Genre/images/*.jpg\")\n",
        "image_ids = []\n",
        "for path in image_paths:\n",
        "    start = path.rfind(\"/\")+1\n",
        "    end = len(path)-4\n",
        "    image_ids.append(path[start:end])"
      ],
      "execution_count": 0,
      "outputs": []
    },
    {
      "cell_type": "code",
      "metadata": {
        "id": "3Ichtpb2Gz-q",
        "colab_type": "code",
        "colab": {}
      },
      "source": [
        "from keras.preprocessing.image import ImageDataGenerator\n",
        "train_datagen = ImageDataGenerator(\n",
        "        rescale=1./255,\n",
        "        shear_range=0.2,\n",
        "        zoom_range=0.2,\n",
        "        horizontal_flip=True)\n",
        "\n",
        "test_datagen = ImageDataGenerator(rescale=1./255)"
      ],
      "execution_count": 0,
      "outputs": []
    },
    {
      "cell_type": "code",
      "metadata": {
        "id": "AN3OgDfMHM2P",
        "colab_type": "code",
        "outputId": "895cf318-35fa-4868-ef6b-e69ecb152684",
        "colab": {
          "base_uri": "https://localhost:8080/",
          "height": 88
        }
      },
      "source": [
        "traindatagenerator=train_datagen.flow_from_dataframe(\n",
        "    dataframe=Movie_Final,\n",
        "    directory='/content/Multiclassification_Genre/images',\n",
        "    x_col='imdbID',\n",
        "    y_col='Genre',\n",
        "    batch_size=50,\n",
        "    shuffle=True)"
      ],
      "execution_count": 0,
      "outputs": [
        {
          "output_type": "stream",
          "text": [
            "Found 0 validated image filenames belonging to 0 classes.\n"
          ],
          "name": "stdout"
        },
        {
          "output_type": "stream",
          "text": [
            "/usr/local/lib/python3.6/dist-packages/keras_preprocessing/image/dataframe_iterator.py:273: UserWarning: Found 6984 invalid image filename(s) in x_col=\"imdbID\". These filename(s) will be ignored.\n",
            "  .format(n_invalid, x_col)\n"
          ],
          "name": "stderr"
        }
      ]
    },
    {
      "cell_type": "code",
      "metadata": {
        "id": "Jj4hIlThJjoD",
        "colab_type": "code",
        "outputId": "24e4f60f-03f3-43fd-eaac-45a811370416",
        "colab": {
          "base_uri": "https://localhost:8080/",
          "height": 231
        }
      },
      "source": [
        "testdatagenerator=test_datagen.flow_from_dataframe(\n",
        "    dataframe=testdatagen,\n",
        "    directory='/content/Multiclassification_Genre/images',\n",
        "    x_col='imdbID',\n",
        "    y_col='Genre',\n",
        "    batch_size=50,\n",
        "    shuffle=True\n",
        "    )"
      ],
      "execution_count": 0,
      "outputs": [
        {
          "output_type": "error",
          "ename": "NameError",
          "evalue": "ignored",
          "traceback": [
            "\u001b[0;31m---------------------------------------------------------------------------\u001b[0m",
            "\u001b[0;31mNameError\u001b[0m                                 Traceback (most recent call last)",
            "\u001b[0;32m<ipython-input-91-dc25de1c3e78>\u001b[0m in \u001b[0;36m<module>\u001b[0;34m()\u001b[0m\n\u001b[1;32m      1\u001b[0m testdatagenerator=test_datagen.flow_from_dataframe(\n\u001b[0;32m----> 2\u001b[0;31m     \u001b[0mdataframe\u001b[0m\u001b[0;34m=\u001b[0m\u001b[0mtestdatagen\u001b[0m\u001b[0;34m,\u001b[0m\u001b[0;34m\u001b[0m\u001b[0;34m\u001b[0m\u001b[0m\n\u001b[0m\u001b[1;32m      3\u001b[0m     \u001b[0mdirectory\u001b[0m\u001b[0;34m=\u001b[0m\u001b[0;34m'/content/Multiclassification_Genre/images'\u001b[0m\u001b[0;34m,\u001b[0m\u001b[0;34m\u001b[0m\u001b[0;34m\u001b[0m\u001b[0m\n\u001b[1;32m      4\u001b[0m     \u001b[0mx_col\u001b[0m\u001b[0;34m=\u001b[0m\u001b[0;34m'imdbID'\u001b[0m\u001b[0;34m,\u001b[0m\u001b[0;34m\u001b[0m\u001b[0;34m\u001b[0m\u001b[0m\n\u001b[1;32m      5\u001b[0m     \u001b[0my_col\u001b[0m\u001b[0;34m=\u001b[0m\u001b[0;34m'Genre'\u001b[0m\u001b[0;34m,\u001b[0m\u001b[0;34m\u001b[0m\u001b[0;34m\u001b[0m\u001b[0m\n",
            "\u001b[0;31mNameError\u001b[0m: name 'testdatagen' is not defined"
          ]
        }
      ]
    }
  ]
}