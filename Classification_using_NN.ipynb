{
  "nbformat": 4,
  "nbformat_minor": 0,
  "metadata": {
    "colab": {
      "name": "Classification using NN.ipynb",
      "provenance": [],
      "collapsed_sections": []
    },
    "kernelspec": {
      "name": "python3",
      "display_name": "Python 3"
    }
  },
  "cells": [
    {
      "cell_type": "code",
      "metadata": {
        "id": "2HUGzAP8LcRv",
        "colab_type": "code",
        "colab": {}
      },
      "source": [
        "import pandas as pd\n",
        "import json\n",
        "import glob   "
      ],
      "execution_count": 0,
      "outputs": []
    },
    {
      "cell_type": "code",
      "metadata": {
        "id": "s7XOzHiWM6cq",
        "colab_type": "code",
        "colab": {}
      },
      "source": [
        "path=\"https://raw.githubusercontent.com/sweetcoonoor/sweetram/master/1981.txt\""
      ],
      "execution_count": 0,
      "outputs": []
    },
    {
      "cell_type": "code",
      "metadata": {
        "id": "GIbZunSiNIJA",
        "colab_type": "code",
        "colab": {}
      },
      "source": [
        "ff=open(\"1980.txt\",\"r\")\n",
        "Movies=ff.read()\n",
        "comma=Movies.replace(\"}\",\"},\")\n",
        "newc=comma[:-2]\n",
        "sqaureAdd=\"[\"+newc+\"]\"\n",
        "aaa=sqaureAdd.replace(\"\\n\",\"\")\n",
        "jj=aaa.replace(\"ObjectId(\",\"\").replace(\"\\\")\",\"\\\"\")\n",
        "fin=json.loads(jj)\n",
        "df = pd.DataFrame.from_dict(fin, orient='columns')"
      ],
      "execution_count": 0,
      "outputs": []
    },
    {
      "cell_type": "code",
      "metadata": {
        "id": "ordx1zzGYrjt",
        "colab_type": "code",
        "colab": {}
      },
      "source": [
        "cols=df.columns\n",
        "dfFin=pd.DataFrame(columns=cols)\n",
        "cols=df.columns\n",
        "dfFin=pd.DataFrame(columns=cols)\n",
        "dfFin\n",
        "dfFin2=dfFin"
      ],
      "execution_count": 0,
      "outputs": []
    },
    {
      "cell_type": "code",
      "metadata": {
        "id": "KPTuhJW1cuMz",
        "colab_type": "code",
        "colab": {
          "base_uri": "https://localhost:8080/",
          "height": 54
        },
        "outputId": "463ec99f-0cb0-4a75-937b-b9d64cdb6394"
      },
      "source": [
        "all_files = glob.glob(\"*.txt\")\n",
        "\n",
        "print((all_files))\n",
        "count=0\n",
        "for files in all_files:\n",
        "  try:\n",
        "    ff=open(files,\"r\",encoding='utf-16')\n",
        "    stringg=ff.read()\n",
        "    comma=Movies.replace(\"}\",\"},\")\n",
        "    newc=comma[:-2]\n",
        "    sqaureAdd=\"[\"+newc+\"]\"\n",
        "    aaa=sqaureAdd.replace(\"\\n\",\"\")\n",
        "    jj=aaa.replace(\"ObjectId(\",\"\").replace(\"\\\")\",\"\\\"\")\n",
        "    fin=json.loads(jj)\n",
        "    df = pd.DataFrame.from_dict(fin, orient='columns')\n",
        "    dfFin=pd.concat([dfFin,df])\n",
        "  except:\n",
        "    ff=open(files,\"r\",encoding='utf-8')\n",
        "    stringg=ff.read()\n",
        "    comma=Movies.replace(\"}\",\"},\")\n",
        "    newc=comma[:-2]\n",
        "    sqaureAdd=\"[\"+newc+\"]\"\n",
        "    aaa=sqaureAdd.replace(\"\\n\",\"\")\n",
        "    jj=aaa.replace(\"ObjectId(\",\"\").replace(\"\\\")\",\"\\\"\")\n",
        "    fin=json.loads(jj)\n",
        "    df = pd.DataFrame.from_dict(fin, orient='columns')\n",
        "    dfFin=pd.concat([dfFin,df])\n",
        "    "
      ],
      "execution_count": 45,
      "outputs": [
        {
          "output_type": "stream",
          "text": [
            "['1998.txt', '1989.txt', '2004.txt', '1999.txt', '2009.txt', '2006.txt', '2002.txt', '1995.txt', '1997.txt', '1983.txt', '2000.txt', '1982.txt', '1981.txt', '1990.txt', '1987.txt', '2012.txt', '1986.txt', '2007.txt', '2001.txt', '1984.txt', '2008.txt', '1994.txt', '1992.txt', '2015.txt', '2011.txt', '1988.txt', '1991.txt', '1980.txt', '2013.txt', '2014.txt', '2005.txt', '2003.txt', '2010.txt', '1996.txt']\n"
          ],
          "name": "stdout"
        }
      ]
    },
    {
      "cell_type": "code",
      "metadata": {
        "id": "dbNKXbKSfU--",
        "colab_type": "code",
        "colab": {
          "base_uri": "https://localhost:8080/",
          "height": 728
        },
        "outputId": "08f37cfd-2514-4b7e-8ea7-46fd454a2c14"
      },
      "source": [
        "Movie_data=pd.concat([dfFin,dfFin2])\n",
        "Movie_data.head()\n"
      ],
      "execution_count": 47,
      "outputs": [
        {
          "output_type": "execute_result",
          "data": {
            "text/html": [
              "<div>\n",
              "<style scoped>\n",
              "    .dataframe tbody tr th:only-of-type {\n",
              "        vertical-align: middle;\n",
              "    }\n",
              "\n",
              "    .dataframe tbody tr th {\n",
              "        vertical-align: top;\n",
              "    }\n",
              "\n",
              "    .dataframe thead th {\n",
              "        text-align: right;\n",
              "    }\n",
              "</style>\n",
              "<table border=\"1\" class=\"dataframe\">\n",
              "  <thead>\n",
              "    <tr style=\"text-align: right;\">\n",
              "      <th></th>\n",
              "      <th>Actors</th>\n",
              "      <th>Awards</th>\n",
              "      <th>Box_office</th>\n",
              "      <th>Country</th>\n",
              "      <th>Director</th>\n",
              "      <th>Genre</th>\n",
              "      <th>Language</th>\n",
              "      <th>Metascore</th>\n",
              "      <th>Poster</th>\n",
              "      <th>Rated</th>\n",
              "      <th>Released</th>\n",
              "      <th>Response</th>\n",
              "      <th>Runtime</th>\n",
              "      <th>Title</th>\n",
              "      <th>Type</th>\n",
              "      <th>Writer</th>\n",
              "      <th>_id</th>\n",
              "      <th>imdbID</th>\n",
              "      <th>imdbRating</th>\n",
              "      <th>imdbVotes</th>\n",
              "    </tr>\n",
              "  </thead>\n",
              "  <tbody>\n",
              "    <tr>\n",
              "      <th>0</th>\n",
              "      <td>Mark Hamill, Harrison Ford, Carrie Fisher, Bil...</td>\n",
              "      <td>Won 1 Oscar. Another 15 wins &amp; 18 nominations.</td>\n",
              "      <td>290,158,751</td>\n",
              "      <td>USA</td>\n",
              "      <td>Irvin Kershner</td>\n",
              "      <td>Action, Adventure, Fantasy</td>\n",
              "      <td>English</td>\n",
              "      <td>79</td>\n",
              "      <td>http://ia.media-imdb.com/images/M/MV5BMjE2MzQw...</td>\n",
              "      <td>PG</td>\n",
              "      <td>20 Jun 1980</td>\n",
              "      <td>True</td>\n",
              "      <td>124 min</td>\n",
              "      <td>Star Wars: Episode V - The Empire Strikes Back</td>\n",
              "      <td>movie</td>\n",
              "      <td>Leigh Brackett (screenplay), Lawrence Kasdan (...</td>\n",
              "      <td>56fb860e71a0651b0c306f55</td>\n",
              "      <td>tt0080684</td>\n",
              "      <td>8.8</td>\n",
              "      <td>799,579</td>\n",
              "    </tr>\n",
              "    <tr>\n",
              "      <th>1</th>\n",
              "      <td>Gene Wilder, Richard Pryor, Georg Stanford Bro...</td>\n",
              "      <td>1 nomination.</td>\n",
              "      <td>101,500,000</td>\n",
              "      <td>USA</td>\n",
              "      <td>Sidney Poitier</td>\n",
              "      <td>Comedy, Crime</td>\n",
              "      <td>English</td>\n",
              "      <td>50</td>\n",
              "      <td>http://ia.media-imdb.com/images/M/MV5BMTM4OTI3...</td>\n",
              "      <td>R</td>\n",
              "      <td>12 Dec 1980</td>\n",
              "      <td>True</td>\n",
              "      <td>111 min</td>\n",
              "      <td>Stir Crazy</td>\n",
              "      <td>movie</td>\n",
              "      <td>Bruce Jay Friedman</td>\n",
              "      <td>56fb860e71a0651b0c306f56</td>\n",
              "      <td>tt0081562</td>\n",
              "      <td>6.8</td>\n",
              "      <td>17,705</td>\n",
              "    </tr>\n",
              "    <tr>\n",
              "      <th>2</th>\n",
              "      <td>Kareem Abdul-Jabbar, Lloyd Bridges, Peter Grav...</td>\n",
              "      <td>Nominated for 1 Golden Globe. Another 2 wins &amp;...</td>\n",
              "      <td>83,400,000</td>\n",
              "      <td>USA</td>\n",
              "      <td>Jim Abrahams, David Zucker, Jerry Zucker</td>\n",
              "      <td>Comedy</td>\n",
              "      <td>English</td>\n",
              "      <td>N/A</td>\n",
              "      <td>http://ia.media-imdb.com/images/M/MV5BNDU2MjE4...</td>\n",
              "      <td>PG</td>\n",
              "      <td>02 Jul 1980</td>\n",
              "      <td>True</td>\n",
              "      <td>88 min</td>\n",
              "      <td>Airplane!</td>\n",
              "      <td>movie</td>\n",
              "      <td>Jim Abrahams (written for the screen by), Davi...</td>\n",
              "      <td>56fb860e71a0651b0c306f57</td>\n",
              "      <td>tt0080339</td>\n",
              "      <td>7.8</td>\n",
              "      <td>154,994</td>\n",
              "    </tr>\n",
              "    <tr>\n",
              "      <th>3</th>\n",
              "      <td>Clint Eastwood, Sondra Locke, Geoffrey Lewis, ...</td>\n",
              "      <td>1 win.</td>\n",
              "      <td>None</td>\n",
              "      <td>USA</td>\n",
              "      <td>Buddy Van Horn</td>\n",
              "      <td>Action, Comedy</td>\n",
              "      <td>English</td>\n",
              "      <td>N/A</td>\n",
              "      <td>http://ia.media-imdb.com/images/M/MV5BMTc5MTc5...</td>\n",
              "      <td>PG</td>\n",
              "      <td>17 Dec 1980</td>\n",
              "      <td>True</td>\n",
              "      <td>116 min</td>\n",
              "      <td>Any Which Way You Can</td>\n",
              "      <td>movie</td>\n",
              "      <td>Jeremy Joe Kronsberg (characters), Stanford Sh...</td>\n",
              "      <td>56fb860e71a0651b0c306f58</td>\n",
              "      <td>tt0080377</td>\n",
              "      <td>6.0</td>\n",
              "      <td>12,639</td>\n",
              "    </tr>\n",
              "    <tr>\n",
              "      <th>4</th>\n",
              "      <td>Goldie Hawn, Eileen Brennan, Armand Assante, R...</td>\n",
              "      <td>Nominated for 3 Oscars. Another 1 win &amp; 3 nomi...</td>\n",
              "      <td>69,800,000</td>\n",
              "      <td>USA</td>\n",
              "      <td>Howard Zieff</td>\n",
              "      <td>Comedy, War</td>\n",
              "      <td>English</td>\n",
              "      <td>N/A</td>\n",
              "      <td>http://ia.media-imdb.com/images/M/MV5BMjIyNjkx...</td>\n",
              "      <td>R</td>\n",
              "      <td>10 Oct 1980</td>\n",
              "      <td>True</td>\n",
              "      <td>109 min</td>\n",
              "      <td>Private Benjamin</td>\n",
              "      <td>movie</td>\n",
              "      <td>Nancy Meyers, Charles Shyer, Harvey Miller</td>\n",
              "      <td>56fb860e71a0651b0c306f59</td>\n",
              "      <td>tt0081375</td>\n",
              "      <td>6.1</td>\n",
              "      <td>17,591</td>\n",
              "    </tr>\n",
              "  </tbody>\n",
              "</table>\n",
              "</div>"
            ],
            "text/plain": [
              "                                              Actors  ... imdbVotes\n",
              "0  Mark Hamill, Harrison Ford, Carrie Fisher, Bil...  ...   799,579\n",
              "1  Gene Wilder, Richard Pryor, Georg Stanford Bro...  ...    17,705\n",
              "2  Kareem Abdul-Jabbar, Lloyd Bridges, Peter Grav...  ...   154,994\n",
              "3  Clint Eastwood, Sondra Locke, Geoffrey Lewis, ...  ...    12,639\n",
              "4  Goldie Hawn, Eileen Brennan, Armand Assante, R...  ...    17,591\n",
              "\n",
              "[5 rows x 20 columns]"
            ]
          },
          "metadata": {
            "tags": []
          },
          "execution_count": 47
        }
      ]
    },
    {
      "cell_type": "markdown",
      "metadata": {
        "id": "4TBNhIw5gXjD",
        "colab_type": "text"
      },
      "source": [
        "Data Exploration and Pre-processing"
      ]
    },
    {
      "cell_type": "code",
      "metadata": {
        "id": "f6l16zZlgebz",
        "colab_type": "code",
        "colab": {}
      },
      "source": [
        "Genre = Movie_data['Genre']"
      ],
      "execution_count": 0,
      "outputs": []
    },
    {
      "cell_type": "code",
      "metadata": {
        "id": "Vlp37P-whUcR",
        "colab_type": "code",
        "colab": {
          "base_uri": "https://localhost:8080/",
          "height": 1000
        },
        "outputId": "5b2b4307-4e4c-427d-bc04-535ca7c854d6"
      },
      "source": [
        "print(Genre)"
      ],
      "execution_count": 54,
      "outputs": [
        {
          "output_type": "stream",
          "text": [
            "0     Action, Adventure, Fantasy\n",
            "1                  Comedy, Crime\n",
            "2                         Comedy\n",
            "3                 Action, Comedy\n",
            "4                    Comedy, War\n",
            "5        Biography, Drama, Music\n",
            "6                 Action, Comedy\n",
            "7      Adventure, Drama, Romance\n",
            "8          Action, Comedy, Crime\n",
            "9                          Drama\n",
            "10     Adventure, Comedy, Family\n",
            "11       Drama, Romance, Western\n",
            "12                 Drama, Horror\n",
            "13               Comedy, Romance\n",
            "14         Comedy, Crime, Sci-Fi\n",
            "15                 Comedy, Sport\n",
            "16                         Drama\n",
            "17                 Comedy, Drama\n",
            "18             Mystery, Thriller\n",
            "19         Drama, Music, Romance\n",
            "20     Action, Adventure, Sci-Fi\n",
            "21              Biography, Drama\n",
            "22     Action, Adventure, Comedy\n",
            "23       Biography, Drama, Sport\n",
            "24     Fantasy, Musical, Romance\n",
            "25         Crime, Drama, Mystery\n",
            "26         Comedy, Drama, Family\n",
            "27               Fantasy, Horror\n",
            "28      Horror, Sci-Fi, Thriller\n",
            "29      Crime, Mystery, Thriller\n",
            "                 ...            \n",
            "67              Horror, Thriller\n",
            "68        Comedy, Drama, Romance\n",
            "69        Comedy, Drama, Romance\n",
            "70                 Comedy, Drama\n",
            "71               Comedy, Musical\n",
            "72        Crime, Drama, Thriller\n",
            "73           Drama, History, War\n",
            "74                Drama, Fantasy\n",
            "75                         Drama\n",
            "76      Action, Adventure, Drama\n",
            "77     Adventure, Drama, Western\n",
            "78                Family, Comedy\n",
            "79                        Comedy\n",
            "80       Biography, Drama, Music\n",
            "81        Crime, Romance, Comedy\n",
            "82           Comedy, Documentary\n",
            "83               Drama, Thriller\n",
            "84               Comedy, Romance\n",
            "85     Animation, Comedy, Family\n",
            "86                         Drama\n",
            "87                 Comedy, Drama\n",
            "88       Biography, Drama, Music\n",
            "89                         Drama\n",
            "90                         Drama\n",
            "91               Comedy, Romance\n",
            "92                         Drama\n",
            "93               Romance, Comedy\n",
            "94                        Comedy\n",
            "95       Drama, Horror, Thriller\n",
            "96                Drama, Musical\n",
            "Name: Genre, Length: 4462, dtype: object\n"
          ],
          "name": "stdout"
        }
      ]
    },
    {
      "cell_type": "code",
      "metadata": {
        "id": "xsxT0S4qhvew",
        "colab_type": "code",
        "colab": {}
      },
      "source": [
        "#distribution of Movie Generes\n",
        "\n"
      ],
      "execution_count": 0,
      "outputs": []
    }
  ]
}